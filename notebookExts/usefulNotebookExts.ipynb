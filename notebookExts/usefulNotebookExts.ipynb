{
 "cells": [
  {
   "cell_type": "markdown",
   "metadata": {
    "collapsed": true,
    "pycharm": {
     "name": "#%% md\n"
    }
   },
   "source": [
    "# https://towardsdatascience.com/10-useful-jupyter-notebook-extensions-for-a-data-scientist-bd4cb472c25e"
   ]
  },
  {
   "cell_type": "code",
   "execution_count": 11,
   "outputs": [
    {
     "name": "stdout",
     "output_type": "stream",
     "text": [
      "Requirement already satisfied: qgrid in /home/gsimpson/PycharmProjects/pythonProject1/venv/lib/python3.8/site-packages (1.3.1)\r\n",
      "Requirement already satisfied: pandas>=0.18.0 in /home/gsimpson/PycharmProjects/pythonProject1/venv/lib/python3.8/site-packages (from qgrid) (1.2.4)\r\n",
      "Requirement already satisfied: ipywidgets>=7.0.0 in /home/gsimpson/PycharmProjects/pythonProject1/venv/lib/python3.8/site-packages (from qgrid) (7.6.3)\r\n",
      "Requirement already satisfied: notebook>=4.0.0 in /home/gsimpson/PycharmProjects/pythonProject1/venv/lib/python3.8/site-packages (from qgrid) (6.3.0)\r\n",
      "Requirement already satisfied: ipython>=4.0.0 in /home/gsimpson/PycharmProjects/pythonProject1/venv/lib/python3.8/site-packages (from ipywidgets>=7.0.0->qgrid) (7.22.0)\r\n",
      "Requirement already satisfied: jupyterlab-widgets>=1.0.0 in /home/gsimpson/PycharmProjects/pythonProject1/venv/lib/python3.8/site-packages (from ipywidgets>=7.0.0->qgrid) (1.0.0)\r\n",
      "Requirement already satisfied: traitlets>=4.3.1 in /home/gsimpson/PycharmProjects/pythonProject1/venv/lib/python3.8/site-packages (from ipywidgets>=7.0.0->qgrid) (5.0.5)\r\n",
      "Requirement already satisfied: widgetsnbextension~=3.5.0 in /home/gsimpson/PycharmProjects/pythonProject1/venv/lib/python3.8/site-packages (from ipywidgets>=7.0.0->qgrid) (3.5.1)\r\n",
      "Requirement already satisfied: nbformat>=4.2.0 in /home/gsimpson/PycharmProjects/pythonProject1/venv/lib/python3.8/site-packages (from ipywidgets>=7.0.0->qgrid) (5.1.3)\r\n",
      "Requirement already satisfied: ipykernel>=4.5.1 in /home/gsimpson/PycharmProjects/pythonProject1/venv/lib/python3.8/site-packages (from ipywidgets>=7.0.0->qgrid) (5.5.3)\r\n",
      "Requirement already satisfied: jupyter-client in /home/gsimpson/PycharmProjects/pythonProject1/venv/lib/python3.8/site-packages (from ipykernel>=4.5.1->ipywidgets>=7.0.0->qgrid) (6.1.12)\r\n",
      "Requirement already satisfied: tornado>=4.2 in /home/gsimpson/PycharmProjects/pythonProject1/venv/lib/python3.8/site-packages (from ipykernel>=4.5.1->ipywidgets>=7.0.0->qgrid) (6.1)\r\n",
      "Requirement already satisfied: setuptools>=18.5 in /home/gsimpson/PycharmProjects/pythonProject1/venv/lib/python3.8/site-packages (from ipython>=4.0.0->ipywidgets>=7.0.0->qgrid) (54.2.0)\r\n",
      "Requirement already satisfied: pexpect>4.3 in /home/gsimpson/PycharmProjects/pythonProject1/venv/lib/python3.8/site-packages (from ipython>=4.0.0->ipywidgets>=7.0.0->qgrid) (4.8.0)\r\n",
      "Requirement already satisfied: backcall in /home/gsimpson/PycharmProjects/pythonProject1/venv/lib/python3.8/site-packages (from ipython>=4.0.0->ipywidgets>=7.0.0->qgrid) (0.2.0)\r\n",
      "Requirement already satisfied: pygments in /home/gsimpson/PycharmProjects/pythonProject1/venv/lib/python3.8/site-packages (from ipython>=4.0.0->ipywidgets>=7.0.0->qgrid) (2.8.1)\r\n",
      "Requirement already satisfied: prompt-toolkit!=3.0.0,!=3.0.1,<3.1.0,>=2.0.0 in /home/gsimpson/PycharmProjects/pythonProject1/venv/lib/python3.8/site-packages (from ipython>=4.0.0->ipywidgets>=7.0.0->qgrid) (3.0.18)\r\n",
      "Requirement already satisfied: pickleshare in /home/gsimpson/PycharmProjects/pythonProject1/venv/lib/python3.8/site-packages (from ipython>=4.0.0->ipywidgets>=7.0.0->qgrid) (0.7.5)\r\n",
      "Requirement already satisfied: decorator in /home/gsimpson/PycharmProjects/pythonProject1/venv/lib/python3.8/site-packages (from ipython>=4.0.0->ipywidgets>=7.0.0->qgrid) (5.0.7)\r\n",
      "Requirement already satisfied: jedi>=0.16 in /home/gsimpson/PycharmProjects/pythonProject1/venv/lib/python3.8/site-packages (from ipython>=4.0.0->ipywidgets>=7.0.0->qgrid) (0.18.0)\r\n",
      "Requirement already satisfied: parso<0.9.0,>=0.8.0 in /home/gsimpson/PycharmProjects/pythonProject1/venv/lib/python3.8/site-packages (from jedi>=0.16->ipython>=4.0.0->ipywidgets>=7.0.0->qgrid) (0.8.2)\r\n",
      "Requirement already satisfied: ipython-genutils in /home/gsimpson/PycharmProjects/pythonProject1/venv/lib/python3.8/site-packages (from nbformat>=4.2.0->ipywidgets>=7.0.0->qgrid) (0.2.0)\r\n",
      "Requirement already satisfied: jsonschema!=2.5.0,>=2.4 in /home/gsimpson/PycharmProjects/pythonProject1/venv/lib/python3.8/site-packages (from nbformat>=4.2.0->ipywidgets>=7.0.0->qgrid) (3.2.0)\r\n",
      "Requirement already satisfied: jupyter-core in /home/gsimpson/PycharmProjects/pythonProject1/venv/lib/python3.8/site-packages (from nbformat>=4.2.0->ipywidgets>=7.0.0->qgrid) (4.7.1)\r\n",
      "Requirement already satisfied: six>=1.11.0 in /home/gsimpson/PycharmProjects/pythonProject1/venv/lib/python3.8/site-packages (from jsonschema!=2.5.0,>=2.4->nbformat>=4.2.0->ipywidgets>=7.0.0->qgrid) (1.15.0)\r\n",
      "Requirement already satisfied: pyrsistent>=0.14.0 in /home/gsimpson/PycharmProjects/pythonProject1/venv/lib/python3.8/site-packages (from jsonschema!=2.5.0,>=2.4->nbformat>=4.2.0->ipywidgets>=7.0.0->qgrid) (0.17.3)\r\n",
      "Requirement already satisfied: attrs>=17.4.0 in /home/gsimpson/PycharmProjects/pythonProject1/venv/lib/python3.8/site-packages (from jsonschema!=2.5.0,>=2.4->nbformat>=4.2.0->ipywidgets>=7.0.0->qgrid) (20.3.0)\r\n",
      "Requirement already satisfied: prometheus-client in /home/gsimpson/PycharmProjects/pythonProject1/venv/lib/python3.8/site-packages (from notebook>=4.0.0->qgrid) (0.10.1)\r\n",
      "Requirement already satisfied: jinja2 in /home/gsimpson/PycharmProjects/pythonProject1/venv/lib/python3.8/site-packages (from notebook>=4.0.0->qgrid) (2.11.3)\r\n",
      "Requirement already satisfied: Send2Trash>=1.5.0 in /home/gsimpson/PycharmProjects/pythonProject1/venv/lib/python3.8/site-packages (from notebook>=4.0.0->qgrid) (1.5.0)\r\n",
      "Requirement already satisfied: argon2-cffi in /home/gsimpson/PycharmProjects/pythonProject1/venv/lib/python3.8/site-packages (from notebook>=4.0.0->qgrid) (20.1.0)\r\n",
      "Requirement already satisfied: nbconvert in /home/gsimpson/PycharmProjects/pythonProject1/venv/lib/python3.8/site-packages (from notebook>=4.0.0->qgrid) (6.0.7)\r\n",
      "Requirement already satisfied: pyzmq>=17 in /home/gsimpson/PycharmProjects/pythonProject1/venv/lib/python3.8/site-packages (from notebook>=4.0.0->qgrid) (22.0.3)\r\n",
      "Requirement already satisfied: terminado>=0.8.3 in /home/gsimpson/PycharmProjects/pythonProject1/venv/lib/python3.8/site-packages (from notebook>=4.0.0->qgrid) (0.9.4)\r\n",
      "Requirement already satisfied: python-dateutil>=2.1 in /home/gsimpson/PycharmProjects/pythonProject1/venv/lib/python3.8/site-packages (from jupyter-client->ipykernel>=4.5.1->ipywidgets>=7.0.0->qgrid) (2.8.1)\r\n",
      "Requirement already satisfied: pytz>=2017.3 in /home/gsimpson/PycharmProjects/pythonProject1/venv/lib/python3.8/site-packages (from pandas>=0.18.0->qgrid) (2021.1)\r\n",
      "Requirement already satisfied: numpy>=1.16.5 in /home/gsimpson/PycharmProjects/pythonProject1/venv/lib/python3.8/site-packages (from pandas>=0.18.0->qgrid) (1.19.5)\r\n",
      "Requirement already satisfied: ptyprocess>=0.5 in /home/gsimpson/PycharmProjects/pythonProject1/venv/lib/python3.8/site-packages (from pexpect>4.3->ipython>=4.0.0->ipywidgets>=7.0.0->qgrid) (0.7.0)\r\n",
      "Requirement already satisfied: wcwidth in /home/gsimpson/PycharmProjects/pythonProject1/venv/lib/python3.8/site-packages (from prompt-toolkit!=3.0.0,!=3.0.1,<3.1.0,>=2.0.0->ipython>=4.0.0->ipywidgets>=7.0.0->qgrid) (0.2.5)\r\n",
      "Requirement already satisfied: cffi>=1.0.0 in /home/gsimpson/PycharmProjects/pythonProject1/venv/lib/python3.8/site-packages (from argon2-cffi->notebook>=4.0.0->qgrid) (1.14.5)\r\n",
      "Requirement already satisfied: pycparser in /home/gsimpson/PycharmProjects/pythonProject1/venv/lib/python3.8/site-packages (from cffi>=1.0.0->argon2-cffi->notebook>=4.0.0->qgrid) (2.20)\r\n",
      "Requirement already satisfied: MarkupSafe>=0.23 in /home/gsimpson/PycharmProjects/pythonProject1/venv/lib/python3.8/site-packages (from jinja2->notebook>=4.0.0->qgrid) (1.1.1)\r\n",
      "Requirement already satisfied: nbclient<0.6.0,>=0.5.0 in /home/gsimpson/PycharmProjects/pythonProject1/venv/lib/python3.8/site-packages (from nbconvert->notebook>=4.0.0->qgrid) (0.5.3)\r\n",
      "Requirement already satisfied: bleach in /home/gsimpson/PycharmProjects/pythonProject1/venv/lib/python3.8/site-packages (from nbconvert->notebook>=4.0.0->qgrid) (3.3.0)\r\n",
      "Requirement already satisfied: pandocfilters>=1.4.1 in /home/gsimpson/PycharmProjects/pythonProject1/venv/lib/python3.8/site-packages (from nbconvert->notebook>=4.0.0->qgrid) (1.4.3)\r\n",
      "Requirement already satisfied: entrypoints>=0.2.2 in /home/gsimpson/PycharmProjects/pythonProject1/venv/lib/python3.8/site-packages (from nbconvert->notebook>=4.0.0->qgrid) (0.3)\r\n",
      "Requirement already satisfied: defusedxml in /home/gsimpson/PycharmProjects/pythonProject1/venv/lib/python3.8/site-packages (from nbconvert->notebook>=4.0.0->qgrid) (0.7.1)\r\n",
      "Requirement already satisfied: mistune<2,>=0.8.1 in /home/gsimpson/PycharmProjects/pythonProject1/venv/lib/python3.8/site-packages (from nbconvert->notebook>=4.0.0->qgrid) (0.8.4)\r\n",
      "Requirement already satisfied: jupyterlab-pygments in /home/gsimpson/PycharmProjects/pythonProject1/venv/lib/python3.8/site-packages (from nbconvert->notebook>=4.0.0->qgrid) (0.1.2)\r\n",
      "Requirement already satisfied: testpath in /home/gsimpson/PycharmProjects/pythonProject1/venv/lib/python3.8/site-packages (from nbconvert->notebook>=4.0.0->qgrid) (0.4.4)\r\n",
      "Requirement already satisfied: async-generator in /home/gsimpson/PycharmProjects/pythonProject1/venv/lib/python3.8/site-packages (from nbclient<0.6.0,>=0.5.0->nbconvert->notebook>=4.0.0->qgrid) (1.10)\r\n",
      "Requirement already satisfied: nest-asyncio in /home/gsimpson/PycharmProjects/pythonProject1/venv/lib/python3.8/site-packages (from nbclient<0.6.0,>=0.5.0->nbconvert->notebook>=4.0.0->qgrid) (1.5.1)\r\n",
      "Requirement already satisfied: packaging in /home/gsimpson/PycharmProjects/pythonProject1/venv/lib/python3.8/site-packages (from bleach->nbconvert->notebook>=4.0.0->qgrid) (20.9)\r\n",
      "Requirement already satisfied: webencodings in /home/gsimpson/PycharmProjects/pythonProject1/venv/lib/python3.8/site-packages (from bleach->nbconvert->notebook>=4.0.0->qgrid) (0.5.1)\r\n",
      "Requirement already satisfied: pyparsing>=2.0.2 in /home/gsimpson/PycharmProjects/pythonProject1/venv/lib/python3.8/site-packages (from packaging->bleach->nbconvert->notebook>=4.0.0->qgrid) (2.4.7)\r\n",
      "Requirement already satisfied: itables in /home/gsimpson/PycharmProjects/pythonProject1/venv/lib/python3.8/site-packages (0.3.0)\r\n",
      "Requirement already satisfied: pandas in /home/gsimpson/PycharmProjects/pythonProject1/venv/lib/python3.8/site-packages (from itables) (1.2.4)\r\n",
      "Requirement already satisfied: IPython in /home/gsimpson/PycharmProjects/pythonProject1/venv/lib/python3.8/site-packages (from itables) (7.22.0)\r\n",
      "Requirement already satisfied: setuptools>=18.5 in /home/gsimpson/PycharmProjects/pythonProject1/venv/lib/python3.8/site-packages (from IPython->itables) (54.2.0)\r\n",
      "Requirement already satisfied: prompt-toolkit!=3.0.0,!=3.0.1,<3.1.0,>=2.0.0 in /home/gsimpson/PycharmProjects/pythonProject1/venv/lib/python3.8/site-packages (from IPython->itables) (3.0.18)\r\n",
      "Requirement already satisfied: backcall in /home/gsimpson/PycharmProjects/pythonProject1/venv/lib/python3.8/site-packages (from IPython->itables) (0.2.0)\r\n",
      "Requirement already satisfied: decorator in /home/gsimpson/PycharmProjects/pythonProject1/venv/lib/python3.8/site-packages (from IPython->itables) (5.0.7)\r\n",
      "Requirement already satisfied: traitlets>=4.2 in /home/gsimpson/PycharmProjects/pythonProject1/venv/lib/python3.8/site-packages (from IPython->itables) (5.0.5)\r\n",
      "Requirement already satisfied: pickleshare in /home/gsimpson/PycharmProjects/pythonProject1/venv/lib/python3.8/site-packages (from IPython->itables) (0.7.5)\r\n",
      "Requirement already satisfied: jedi>=0.16 in /home/gsimpson/PycharmProjects/pythonProject1/venv/lib/python3.8/site-packages (from IPython->itables) (0.18.0)\r\n",
      "Requirement already satisfied: pexpect>4.3 in /home/gsimpson/PycharmProjects/pythonProject1/venv/lib/python3.8/site-packages (from IPython->itables) (4.8.0)\r\n",
      "Requirement already satisfied: pygments in /home/gsimpson/PycharmProjects/pythonProject1/venv/lib/python3.8/site-packages (from IPython->itables) (2.8.1)\r\n",
      "Requirement already satisfied: parso<0.9.0,>=0.8.0 in /home/gsimpson/PycharmProjects/pythonProject1/venv/lib/python3.8/site-packages (from jedi>=0.16->IPython->itables) (0.8.2)\r\n",
      "Requirement already satisfied: ptyprocess>=0.5 in /home/gsimpson/PycharmProjects/pythonProject1/venv/lib/python3.8/site-packages (from pexpect>4.3->IPython->itables) (0.7.0)\r\n",
      "Requirement already satisfied: wcwidth in /home/gsimpson/PycharmProjects/pythonProject1/venv/lib/python3.8/site-packages (from prompt-toolkit!=3.0.0,!=3.0.1,<3.1.0,>=2.0.0->IPython->itables) (0.2.5)\r\n",
      "Requirement already satisfied: ipython-genutils in /home/gsimpson/PycharmProjects/pythonProject1/venv/lib/python3.8/site-packages (from traitlets>=4.2->IPython->itables) (0.2.0)\r\n",
      "Requirement already satisfied: pytz>=2017.3 in /home/gsimpson/PycharmProjects/pythonProject1/venv/lib/python3.8/site-packages (from pandas->itables) (2021.1)\r\n",
      "Requirement already satisfied: python-dateutil>=2.7.3 in /home/gsimpson/PycharmProjects/pythonProject1/venv/lib/python3.8/site-packages (from pandas->itables) (2.8.1)\r\n",
      "Requirement already satisfied: numpy>=1.16.5 in /home/gsimpson/PycharmProjects/pythonProject1/venv/lib/python3.8/site-packages (from pandas->itables) (1.19.5)\r\n",
      "Requirement already satisfied: six>=1.5 in /home/gsimpson/PycharmProjects/pythonProject1/venv/lib/python3.8/site-packages (from python-dateutil>=2.7.3->pandas->itables) (1.15.0)\r\n",
      "Requirement already satisfied: world_bank_data in /home/gsimpson/PycharmProjects/pythonProject1/venv/lib/python3.8/site-packages (0.1.3)\r\n",
      "Requirement already satisfied: pandas in /home/gsimpson/PycharmProjects/pythonProject1/venv/lib/python3.8/site-packages (from world_bank_data) (1.2.4)\r\n",
      "Requirement already satisfied: cachetools in /home/gsimpson/PycharmProjects/pythonProject1/venv/lib/python3.8/site-packages (from world_bank_data) (4.2.2)\r\n",
      "Requirement already satisfied: requests in /home/gsimpson/PycharmProjects/pythonProject1/venv/lib/python3.8/site-packages (from world_bank_data) (2.25.1)\r\n",
      "Requirement already satisfied: python-dateutil>=2.7.3 in /home/gsimpson/PycharmProjects/pythonProject1/venv/lib/python3.8/site-packages (from pandas->world_bank_data) (2.8.1)\r\n",
      "Requirement already satisfied: pytz>=2017.3 in /home/gsimpson/PycharmProjects/pythonProject1/venv/lib/python3.8/site-packages (from pandas->world_bank_data) (2021.1)\r\n",
      "Requirement already satisfied: numpy>=1.16.5 in /home/gsimpson/PycharmProjects/pythonProject1/venv/lib/python3.8/site-packages (from pandas->world_bank_data) (1.19.5)\r\n",
      "Requirement already satisfied: six>=1.5 in /home/gsimpson/PycharmProjects/pythonProject1/venv/lib/python3.8/site-packages (from python-dateutil>=2.7.3->pandas->world_bank_data) (1.15.0)\r\n",
      "Requirement already satisfied: certifi>=2017.4.17 in /home/gsimpson/PycharmProjects/pythonProject1/venv/lib/python3.8/site-packages (from requests->world_bank_data) (2020.12.5)\r\n",
      "Requirement already satisfied: idna<3,>=2.5 in /home/gsimpson/PycharmProjects/pythonProject1/venv/lib/python3.8/site-packages (from requests->world_bank_data) (2.10)\r\n",
      "Requirement already satisfied: chardet<5,>=3.0.2 in /home/gsimpson/PycharmProjects/pythonProject1/venv/lib/python3.8/site-packages (from requests->world_bank_data) (4.0.0)\r\n",
      "Requirement already satisfied: urllib3<1.27,>=1.21.1 in /home/gsimpson/PycharmProjects/pythonProject1/venv/lib/python3.8/site-packages (from requests->world_bank_data) (1.26.4)\r\n"
     ]
    }
   ],
   "source": [
    "!pip install qgrid  #Installing with pip\n",
    "!pip install itables\n",
    "!pip install world_bank_data --upgrade"
   ],
   "metadata": {
    "collapsed": false,
    "pycharm": {
     "name": "#%%\n"
    }
   }
  },
  {
   "cell_type": "code",
   "execution_count": 12,
   "outputs": [],
   "source": [
    "import numpy as np\n",
    "import pandas as pd\n",
    "\n",
    "df = pd.DataFrame(\n",
    "     {\n",
    "         \"A\": 1.0,\n",
    "         \"B\": pd.Timestamp(\"20130102\"),\n",
    "         \"C\": pd.Series(1, index=list(range(4)), dtype=\"float32\"),\n",
    "         \"D\": np.array([3] * 4, dtype=\"int32\"),\n",
    "         \"E\": pd.Categorical([\"test\", \"train\", \"test\", \"train\"]),\n",
    "         \"F\": \"foo\",\n",
    "     }\n",
    " )"
   ],
   "metadata": {
    "collapsed": false,
    "pycharm": {
     "name": "#%%\n"
    }
   }
  },
  {
   "cell_type": "code",
   "execution_count": 13,
   "outputs": [],
   "source": [
    "import qgrid\n",
    "#qgrid_widget = qgrid.show_grid(df, show_toolbar=True)\n",
    "#qgrid_widget"
   ],
   "metadata": {
    "collapsed": false,
    "pycharm": {
     "name": "#%%\n"
    }
   }
  },
  {
   "cell_type": "code",
   "execution_count": 14,
   "outputs": [
    {
     "name": "stdout",
     "output_type": "stream",
     "text": [
      "Collecting https://github.com/tgherzog/wbgapi.git\r\n",
      "  Downloading https://github.com/tgherzog/wbgapi.git\r\n",
      "\u001B[K     | 168 kB 839 kB/s\r\n",
      "\u001B[31m  ERROR: Cannot unpack file /tmp/pip-unpack-y3r_nity/wbgapi.git (downloaded from /tmp/pip-req-build-3m1t03s1, content-type: text/html; charset=utf-8); cannot detect archive format\u001B[0m\r\n",
      "\u001B[31mERROR: Cannot determine archive format of /tmp/pip-req-build-3m1t03s1\u001B[0m\r\n",
      "\u001B[?25h"
     ]
    }
   ],
   "source": [
    "! pip install https://github.com/tgherzog/wbgapi.git\n",
    "\n",
    "#import wbgapi as wb\n",
    "#wb.source_info()\n",
    "\n",
    "from itables import init_notebook_mode\n",
    "#init_notebook_mode(all_interactive=True)\n",
    "#import world_bank_data as wb\n",
    "\n",
    "#df = wb.get_countries()\n",
    "#df"
   ],
   "metadata": {
    "collapsed": false,
    "pycharm": {
     "name": "#%%\n"
    }
   }
  },
  {
   "cell_type": "markdown",
   "source": [
    "## DataTables\n"
   ],
   "metadata": {
    "collapsed": false,
    "pycharm": {
     "name": "#%% md\n"
    }
   }
  },
  {
   "cell_type": "code",
   "execution_count": 15,
   "outputs": [],
   "source": [
    "#!pip install jupyter-datatables\n",
    "\n",
    "#from jupyter_datatables import init_datatables_mode\n",
    "\n",
    "#init_datatables_mode()"
   ],
   "metadata": {
    "collapsed": false,
    "pycharm": {
     "name": "#%%\n"
    }
   }
  },
  {
   "cell_type": "markdown",
   "source": [
    "# https://towardsdatascience.com/10-useful-jupyter-notebook-extensions-for-a-data-scientist-bd4cb472c25e"
   ],
   "metadata": {
    "collapsed": false
   }
  },
  {
   "cell_type": "code",
   "execution_count": 17,
   "outputs": [
    {
     "name": "stdout",
     "output_type": "stream",
     "text": [
      "Requirement already satisfied: ipyvolume in /home/gsimpson/PycharmProjects/pythonProject1/venv/lib/python3.8/site-packages (0.5.2)\r\n",
      "Requirement already satisfied: requests in /home/gsimpson/PycharmProjects/pythonProject1/venv/lib/python3.8/site-packages (from ipyvolume) (2.25.1)\r\n",
      "Requirement already satisfied: pythreejs>=1.0.0 in /home/gsimpson/PycharmProjects/pythonProject1/venv/lib/python3.8/site-packages (from ipyvolume) (2.3.0)\r\n",
      "Requirement already satisfied: Pillow in /home/gsimpson/PycharmProjects/pythonProject1/venv/lib/python3.8/site-packages (from ipyvolume) (8.2.0)\r\n",
      "Requirement already satisfied: traittypes in /home/gsimpson/PycharmProjects/pythonProject1/venv/lib/python3.8/site-packages (from ipyvolume) (0.2.1)\r\n",
      "Requirement already satisfied: numpy in /home/gsimpson/PycharmProjects/pythonProject1/venv/lib/python3.8/site-packages (from ipyvolume) (1.19.5)\r\n",
      "Requirement already satisfied: traitlets in /home/gsimpson/PycharmProjects/pythonProject1/venv/lib/python3.8/site-packages (from ipyvolume) (5.0.5)\r\n",
      "Requirement already satisfied: ipywidgets>=7.5 in /home/gsimpson/PycharmProjects/pythonProject1/venv/lib/python3.8/site-packages (from ipyvolume) (7.6.3)\r\n",
      "Requirement already satisfied: ipywebrtc in /home/gsimpson/PycharmProjects/pythonProject1/venv/lib/python3.8/site-packages (from ipyvolume) (0.6.0)\r\n",
      "Requirement already satisfied: ipykernel>=4.5.1 in /home/gsimpson/PycharmProjects/pythonProject1/venv/lib/python3.8/site-packages (from ipywidgets>=7.5->ipyvolume) (5.5.3)\r\n",
      "Requirement already satisfied: jupyterlab-widgets>=1.0.0 in /home/gsimpson/PycharmProjects/pythonProject1/venv/lib/python3.8/site-packages (from ipywidgets>=7.5->ipyvolume) (1.0.0)\r\n",
      "Requirement already satisfied: ipython>=4.0.0 in /home/gsimpson/PycharmProjects/pythonProject1/venv/lib/python3.8/site-packages (from ipywidgets>=7.5->ipyvolume) (7.22.0)\r\n",
      "Requirement already satisfied: widgetsnbextension~=3.5.0 in /home/gsimpson/PycharmProjects/pythonProject1/venv/lib/python3.8/site-packages (from ipywidgets>=7.5->ipyvolume) (3.5.1)\r\n",
      "Requirement already satisfied: nbformat>=4.2.0 in /home/gsimpson/PycharmProjects/pythonProject1/venv/lib/python3.8/site-packages (from ipywidgets>=7.5->ipyvolume) (5.1.3)\r\n",
      "Requirement already satisfied: jupyter-client in /home/gsimpson/PycharmProjects/pythonProject1/venv/lib/python3.8/site-packages (from ipykernel>=4.5.1->ipywidgets>=7.5->ipyvolume) (6.1.12)\r\n",
      "Requirement already satisfied: tornado>=4.2 in /home/gsimpson/PycharmProjects/pythonProject1/venv/lib/python3.8/site-packages (from ipykernel>=4.5.1->ipywidgets>=7.5->ipyvolume) (6.1)\r\n",
      "Requirement already satisfied: jedi>=0.16 in /home/gsimpson/PycharmProjects/pythonProject1/venv/lib/python3.8/site-packages (from ipython>=4.0.0->ipywidgets>=7.5->ipyvolume) (0.18.0)\r\n",
      "Requirement already satisfied: prompt-toolkit!=3.0.0,!=3.0.1,<3.1.0,>=2.0.0 in /home/gsimpson/PycharmProjects/pythonProject1/venv/lib/python3.8/site-packages (from ipython>=4.0.0->ipywidgets>=7.5->ipyvolume) (3.0.18)\r\n",
      "Requirement already satisfied: decorator in /home/gsimpson/PycharmProjects/pythonProject1/venv/lib/python3.8/site-packages (from ipython>=4.0.0->ipywidgets>=7.5->ipyvolume) (5.0.7)\r\n",
      "Requirement already satisfied: pygments in /home/gsimpson/PycharmProjects/pythonProject1/venv/lib/python3.8/site-packages (from ipython>=4.0.0->ipywidgets>=7.5->ipyvolume) (2.8.1)\r\n",
      "Requirement already satisfied: pickleshare in /home/gsimpson/PycharmProjects/pythonProject1/venv/lib/python3.8/site-packages (from ipython>=4.0.0->ipywidgets>=7.5->ipyvolume) (0.7.5)\r\n",
      "Requirement already satisfied: backcall in /home/gsimpson/PycharmProjects/pythonProject1/venv/lib/python3.8/site-packages (from ipython>=4.0.0->ipywidgets>=7.5->ipyvolume) (0.2.0)\r\n",
      "Requirement already satisfied: setuptools>=18.5 in /home/gsimpson/PycharmProjects/pythonProject1/venv/lib/python3.8/site-packages (from ipython>=4.0.0->ipywidgets>=7.5->ipyvolume) (54.2.0)\r\n",
      "Requirement already satisfied: pexpect>4.3 in /home/gsimpson/PycharmProjects/pythonProject1/venv/lib/python3.8/site-packages (from ipython>=4.0.0->ipywidgets>=7.5->ipyvolume) (4.8.0)\r\n",
      "Requirement already satisfied: parso<0.9.0,>=0.8.0 in /home/gsimpson/PycharmProjects/pythonProject1/venv/lib/python3.8/site-packages (from jedi>=0.16->ipython>=4.0.0->ipywidgets>=7.5->ipyvolume) (0.8.2)\r\n",
      "Requirement already satisfied: ipython-genutils in /home/gsimpson/PycharmProjects/pythonProject1/venv/lib/python3.8/site-packages (from nbformat>=4.2.0->ipywidgets>=7.5->ipyvolume) (0.2.0)\r\n",
      "Requirement already satisfied: jupyter-core in /home/gsimpson/PycharmProjects/pythonProject1/venv/lib/python3.8/site-packages (from nbformat>=4.2.0->ipywidgets>=7.5->ipyvolume) (4.7.1)\r\n",
      "Requirement already satisfied: jsonschema!=2.5.0,>=2.4 in /home/gsimpson/PycharmProjects/pythonProject1/venv/lib/python3.8/site-packages (from nbformat>=4.2.0->ipywidgets>=7.5->ipyvolume) (3.2.0)\r\n",
      "Requirement already satisfied: pyrsistent>=0.14.0 in /home/gsimpson/PycharmProjects/pythonProject1/venv/lib/python3.8/site-packages (from jsonschema!=2.5.0,>=2.4->nbformat>=4.2.0->ipywidgets>=7.5->ipyvolume) (0.17.3)\r\n",
      "Requirement already satisfied: six>=1.11.0 in /home/gsimpson/PycharmProjects/pythonProject1/venv/lib/python3.8/site-packages (from jsonschema!=2.5.0,>=2.4->nbformat>=4.2.0->ipywidgets>=7.5->ipyvolume) (1.15.0)\r\n",
      "Requirement already satisfied: attrs>=17.4.0 in /home/gsimpson/PycharmProjects/pythonProject1/venv/lib/python3.8/site-packages (from jsonschema!=2.5.0,>=2.4->nbformat>=4.2.0->ipywidgets>=7.5->ipyvolume) (20.3.0)\r\n",
      "Requirement already satisfied: ptyprocess>=0.5 in /home/gsimpson/PycharmProjects/pythonProject1/venv/lib/python3.8/site-packages (from pexpect>4.3->ipython>=4.0.0->ipywidgets>=7.5->ipyvolume) (0.7.0)\r\n",
      "Requirement already satisfied: wcwidth in /home/gsimpson/PycharmProjects/pythonProject1/venv/lib/python3.8/site-packages (from prompt-toolkit!=3.0.0,!=3.0.1,<3.1.0,>=2.0.0->ipython>=4.0.0->ipywidgets>=7.5->ipyvolume) (0.2.5)\r\n",
      "Requirement already satisfied: ipydatawidgets>=1.1.1 in /home/gsimpson/PycharmProjects/pythonProject1/venv/lib/python3.8/site-packages (from pythreejs>=1.0.0->ipyvolume) (4.2.0)\r\n",
      "Requirement already satisfied: notebook>=4.4.1 in /home/gsimpson/PycharmProjects/pythonProject1/venv/lib/python3.8/site-packages (from widgetsnbextension~=3.5.0->ipywidgets>=7.5->ipyvolume) (6.3.0)\r\n",
      "Requirement already satisfied: Send2Trash>=1.5.0 in /home/gsimpson/PycharmProjects/pythonProject1/venv/lib/python3.8/site-packages (from notebook>=4.4.1->widgetsnbextension~=3.5.0->ipywidgets>=7.5->ipyvolume) (1.5.0)\r\n",
      "Requirement already satisfied: jinja2 in /home/gsimpson/PycharmProjects/pythonProject1/venv/lib/python3.8/site-packages (from notebook>=4.4.1->widgetsnbextension~=3.5.0->ipywidgets>=7.5->ipyvolume) (2.11.3)\r\n",
      "Requirement already satisfied: nbconvert in /home/gsimpson/PycharmProjects/pythonProject1/venv/lib/python3.8/site-packages (from notebook>=4.4.1->widgetsnbextension~=3.5.0->ipywidgets>=7.5->ipyvolume) (6.0.7)\r\n",
      "Requirement already satisfied: pyzmq>=17 in /home/gsimpson/PycharmProjects/pythonProject1/venv/lib/python3.8/site-packages (from notebook>=4.4.1->widgetsnbextension~=3.5.0->ipywidgets>=7.5->ipyvolume) (22.0.3)\r\n",
      "Requirement already satisfied: argon2-cffi in /home/gsimpson/PycharmProjects/pythonProject1/venv/lib/python3.8/site-packages (from notebook>=4.4.1->widgetsnbextension~=3.5.0->ipywidgets>=7.5->ipyvolume) (20.1.0)\r\n",
      "Requirement already satisfied: prometheus-client in /home/gsimpson/PycharmProjects/pythonProject1/venv/lib/python3.8/site-packages (from notebook>=4.4.1->widgetsnbextension~=3.5.0->ipywidgets>=7.5->ipyvolume) (0.10.1)\r\n",
      "Requirement already satisfied: terminado>=0.8.3 in /home/gsimpson/PycharmProjects/pythonProject1/venv/lib/python3.8/site-packages (from notebook>=4.4.1->widgetsnbextension~=3.5.0->ipywidgets>=7.5->ipyvolume) (0.9.4)\r\n",
      "Requirement already satisfied: python-dateutil>=2.1 in /home/gsimpson/PycharmProjects/pythonProject1/venv/lib/python3.8/site-packages (from jupyter-client->ipykernel>=4.5.1->ipywidgets>=7.5->ipyvolume) (2.8.1)\r\n",
      "Requirement already satisfied: cffi>=1.0.0 in /home/gsimpson/PycharmProjects/pythonProject1/venv/lib/python3.8/site-packages (from argon2-cffi->notebook>=4.4.1->widgetsnbextension~=3.5.0->ipywidgets>=7.5->ipyvolume) (1.14.5)\r\n",
      "Requirement already satisfied: pycparser in /home/gsimpson/PycharmProjects/pythonProject1/venv/lib/python3.8/site-packages (from cffi>=1.0.0->argon2-cffi->notebook>=4.4.1->widgetsnbextension~=3.5.0->ipywidgets>=7.5->ipyvolume) (2.20)\r\n",
      "Requirement already satisfied: MarkupSafe>=0.23 in /home/gsimpson/PycharmProjects/pythonProject1/venv/lib/python3.8/site-packages (from jinja2->notebook>=4.4.1->widgetsnbextension~=3.5.0->ipywidgets>=7.5->ipyvolume) (1.1.1)\r\n",
      "Requirement already satisfied: nbclient<0.6.0,>=0.5.0 in /home/gsimpson/PycharmProjects/pythonProject1/venv/lib/python3.8/site-packages (from nbconvert->notebook>=4.4.1->widgetsnbextension~=3.5.0->ipywidgets>=7.5->ipyvolume) (0.5.3)\r\n",
      "Requirement already satisfied: defusedxml in /home/gsimpson/PycharmProjects/pythonProject1/venv/lib/python3.8/site-packages (from nbconvert->notebook>=4.4.1->widgetsnbextension~=3.5.0->ipywidgets>=7.5->ipyvolume) (0.7.1)\r\n",
      "Requirement already satisfied: jupyterlab-pygments in /home/gsimpson/PycharmProjects/pythonProject1/venv/lib/python3.8/site-packages (from nbconvert->notebook>=4.4.1->widgetsnbextension~=3.5.0->ipywidgets>=7.5->ipyvolume) (0.1.2)\r\n",
      "Requirement already satisfied: mistune<2,>=0.8.1 in /home/gsimpson/PycharmProjects/pythonProject1/venv/lib/python3.8/site-packages (from nbconvert->notebook>=4.4.1->widgetsnbextension~=3.5.0->ipywidgets>=7.5->ipyvolume) (0.8.4)\r\n",
      "Requirement already satisfied: bleach in /home/gsimpson/PycharmProjects/pythonProject1/venv/lib/python3.8/site-packages (from nbconvert->notebook>=4.4.1->widgetsnbextension~=3.5.0->ipywidgets>=7.5->ipyvolume) (3.3.0)\r\n",
      "Requirement already satisfied: pandocfilters>=1.4.1 in /home/gsimpson/PycharmProjects/pythonProject1/venv/lib/python3.8/site-packages (from nbconvert->notebook>=4.4.1->widgetsnbextension~=3.5.0->ipywidgets>=7.5->ipyvolume) (1.4.3)\r\n",
      "Requirement already satisfied: testpath in /home/gsimpson/PycharmProjects/pythonProject1/venv/lib/python3.8/site-packages (from nbconvert->notebook>=4.4.1->widgetsnbextension~=3.5.0->ipywidgets>=7.5->ipyvolume) (0.4.4)\r\n",
      "Requirement already satisfied: entrypoints>=0.2.2 in /home/gsimpson/PycharmProjects/pythonProject1/venv/lib/python3.8/site-packages (from nbconvert->notebook>=4.4.1->widgetsnbextension~=3.5.0->ipywidgets>=7.5->ipyvolume) (0.3)\r\n",
      "Requirement already satisfied: nest-asyncio in /home/gsimpson/PycharmProjects/pythonProject1/venv/lib/python3.8/site-packages (from nbclient<0.6.0,>=0.5.0->nbconvert->notebook>=4.4.1->widgetsnbextension~=3.5.0->ipywidgets>=7.5->ipyvolume) (1.5.1)\r\n",
      "Requirement already satisfied: async-generator in /home/gsimpson/PycharmProjects/pythonProject1/venv/lib/python3.8/site-packages (from nbclient<0.6.0,>=0.5.0->nbconvert->notebook>=4.4.1->widgetsnbextension~=3.5.0->ipywidgets>=7.5->ipyvolume) (1.10)\r\n",
      "Requirement already satisfied: packaging in /home/gsimpson/PycharmProjects/pythonProject1/venv/lib/python3.8/site-packages (from bleach->nbconvert->notebook>=4.4.1->widgetsnbextension~=3.5.0->ipywidgets>=7.5->ipyvolume) (20.9)\r\n",
      "Requirement already satisfied: webencodings in /home/gsimpson/PycharmProjects/pythonProject1/venv/lib/python3.8/site-packages (from bleach->nbconvert->notebook>=4.4.1->widgetsnbextension~=3.5.0->ipywidgets>=7.5->ipyvolume) (0.5.1)\r\n",
      "Requirement already satisfied: pyparsing>=2.0.2 in /home/gsimpson/PycharmProjects/pythonProject1/venv/lib/python3.8/site-packages (from packaging->bleach->nbconvert->notebook>=4.4.1->widgetsnbextension~=3.5.0->ipywidgets>=7.5->ipyvolume) (2.4.7)\r\n",
      "Requirement already satisfied: idna<3,>=2.5 in /home/gsimpson/PycharmProjects/pythonProject1/venv/lib/python3.8/site-packages (from requests->ipyvolume) (2.10)\r\n",
      "Requirement already satisfied: chardet<5,>=3.0.2 in /home/gsimpson/PycharmProjects/pythonProject1/venv/lib/python3.8/site-packages (from requests->ipyvolume) (4.0.0)\r\n",
      "Requirement already satisfied: certifi>=2017.4.17 in /home/gsimpson/PycharmProjects/pythonProject1/venv/lib/python3.8/site-packages (from requests->ipyvolume) (2020.12.5)\r\n",
      "Requirement already satisfied: urllib3<1.27,>=1.21.1 in /home/gsimpson/PycharmProjects/pythonProject1/venv/lib/python3.8/site-packages (from requests->ipyvolume) (1.26.4)\r\n"
     ]
    },
    {
     "name": "stderr",
     "output_type": "stream",
     "text": [
      "2021-05-10 13:24:45,941 [14817] WARNING  py.warnings:109: [JupyterRequire] /home/gsimpson/PycharmProjects/pythonProject1/venv/lib/python3.8/site-packages/ipyvolume/serialize.py:81: RuntimeWarning: invalid value encountered in true_divide\n",
      "  gradient = gradient / np.sqrt(gradient[0]**2 + gradient[1]**2 + gradient[2]**2)\n",
      "\n"
     ]
    },
    {
     "data": {
      "text/plain": "Volume(data=array([[[92, 87, 80, ..., 74, 77, 77],\n        [89, 85, 79, ..., 73, 75, 76],\n        [84, 82, 79,…",
      "application/vnd.jupyter.widget-view+json": {
       "version_major": 2,
       "version_minor": 0,
       "model_id": "d1f2048f858146e29c0f9918719976b4"
      }
     },
     "metadata": {},
     "output_type": "display_data"
    }
   ],
   "source": [
    "!pip install ipyvolume #Installing with pip\n",
    "\n",
    "import ipyvolume\n",
    "hdz = ipyvolume.datasets.hdz2000.fetch()\n",
    "ipyvolume.volshow(hdz.data\n",
    "                  , lighting=True,  level=[0.4, 0.6, 0.9])\n",
    "\n"
   ],
   "metadata": {
    "collapsed": false,
    "pycharm": {
     "name": "#%%\n"
    }
   }
  },
  {
   "cell_type": "markdown",
   "source": [
    "##\n",
    "TensorWatch is a debugging and visualization too"
   ],
   "metadata": {
    "collapsed": false
   }
  },
  {
   "cell_type": "code",
   "execution_count": 18,
   "outputs": [
    {
     "name": "stdout",
     "output_type": "stream",
     "text": [
      "Collecting tensorwatch\r\n",
      "  Downloading tensorwatch-0.9.1.tar.gz (187 kB)\r\n",
      "\u001B[K     |████████████████████████████████| 187 kB 5.7 MB/s eta 0:00:01\r\n",
      "\u001B[?25hRequirement already satisfied: matplotlib in /home/gsimpson/PycharmProjects/pythonProject1/venv/lib/python3.8/site-packages (from tensorwatch) (3.4.1)\r\n",
      "Requirement already satisfied: numpy in /home/gsimpson/PycharmProjects/pythonProject1/venv/lib/python3.8/site-packages (from tensorwatch) (1.19.5)\r\n",
      "Requirement already satisfied: pyzmq in /home/gsimpson/PycharmProjects/pythonProject1/venv/lib/python3.8/site-packages (from tensorwatch) (22.0.3)\r\n",
      "Collecting plotly\r\n",
      "  Downloading plotly-4.14.3-py2.py3-none-any.whl (13.2 MB)\r\n",
      "\u001B[K     |████████████████████████████████| 13.2 MB 17.1 MB/s eta 0:00:01   |▊                               | 296 kB 9.6 MB/s eta 0:00:02     |██                              | 798 kB 9.6 MB/s eta 0:00:02     |████████▏                       | 3.3 MB 9.6 MB/s eta 0:00:02     |████████████████▍               | 6.7 MB 9.6 MB/s eta 0:00:01��████    | 11.5 MB 9.6 MB/s eta 0:00:01     |███████████████████████████████▍| 12.9 MB 17.1 MB/s eta 0:00:01\r\n",
      "\u001B[?25hRequirement already satisfied: ipywidgets in /home/gsimpson/PycharmProjects/pythonProject1/venv/lib/python3.8/site-packages (from tensorwatch) (7.6.3)\r\n",
      "Collecting pydotz\r\n",
      "  Downloading pydotz-1.5.1.tar.gz (133 kB)\r\n",
      "\u001B[K     |████████████████████████████████| 133 kB 6.1 MB/s eta 0:00:01\r\n",
      "\u001B[?25hRequirement already satisfied: nbformat in /home/gsimpson/PycharmProjects/pythonProject1/venv/lib/python3.8/site-packages (from tensorwatch) (5.1.3)\r\n",
      "Collecting scikit-image\r\n",
      "  Downloading scikit_image-0.18.1-cp38-cp38-manylinux1_x86_64.whl (30.2 MB)\r\n",
      "\u001B[K     |████████████████████████████████| 30.2 MB 5.3 MB/s eta 0:00:011   |█▌                              | 1.4 MB 7.9 MB/s eta 0:00:04     |███▋                            | 3.4 MB 7.9 MB/s eta 0:00:04     |████▏                           | 4.0 MB 7.9 MB/s eta 0:00:04    |███████████████▎                | 14.5 MB 13.6 MB/s eta 0:00:02| 15.4 MB 13.6 MB/s eta 0:00:02     |█████████████████▊              | 16.8 MB 13.6 MB/s eta 0:00:01     |███████████████████████████▎    | 25.7 MB 5.3 MB/s eta 0:00:01     |████████████████████████████▍   | 26.8 MB 5.3 MB/s eta 0:00:01     |██████████████████████████████  | 28.4 MB 5.3 MB/s eta 0:00:01\r\n",
      "\u001B[?25hRequirement already satisfied: pyyaml in /home/gsimpson/PycharmProjects/pythonProject1/venv/lib/python3.8/site-packages (from tensorwatch) (5.3.1)\r\n",
      "Collecting graphviz\r\n",
      "  Downloading graphviz-0.16-py2.py3-none-any.whl (19 kB)\r\n",
      "Requirement already satisfied: widgetsnbextension~=3.5.0 in /home/gsimpson/PycharmProjects/pythonProject1/venv/lib/python3.8/site-packages (from ipywidgets->tensorwatch) (3.5.1)\r\n",
      "Requirement already satisfied: jupyterlab-widgets>=1.0.0 in /home/gsimpson/PycharmProjects/pythonProject1/venv/lib/python3.8/site-packages (from ipywidgets->tensorwatch) (1.0.0)\r\n",
      "Requirement already satisfied: ipython>=4.0.0 in /home/gsimpson/PycharmProjects/pythonProject1/venv/lib/python3.8/site-packages (from ipywidgets->tensorwatch) (7.22.0)\r\n",
      "Requirement already satisfied: traitlets>=4.3.1 in /home/gsimpson/PycharmProjects/pythonProject1/venv/lib/python3.8/site-packages (from ipywidgets->tensorwatch) (5.0.5)\r\n",
      "Requirement already satisfied: ipykernel>=4.5.1 in /home/gsimpson/PycharmProjects/pythonProject1/venv/lib/python3.8/site-packages (from ipywidgets->tensorwatch) (5.5.3)\r\n",
      "Requirement already satisfied: tornado>=4.2 in /home/gsimpson/PycharmProjects/pythonProject1/venv/lib/python3.8/site-packages (from ipykernel>=4.5.1->ipywidgets->tensorwatch) (6.1)\r\n",
      "Requirement already satisfied: jupyter-client in /home/gsimpson/PycharmProjects/pythonProject1/venv/lib/python3.8/site-packages (from ipykernel>=4.5.1->ipywidgets->tensorwatch) (6.1.12)\r\n",
      "Requirement already satisfied: pygments in /home/gsimpson/PycharmProjects/pythonProject1/venv/lib/python3.8/site-packages (from ipython>=4.0.0->ipywidgets->tensorwatch) (2.8.1)\r\n",
      "Requirement already satisfied: jedi>=0.16 in /home/gsimpson/PycharmProjects/pythonProject1/venv/lib/python3.8/site-packages (from ipython>=4.0.0->ipywidgets->tensorwatch) (0.18.0)\r\n",
      "Requirement already satisfied: prompt-toolkit!=3.0.0,!=3.0.1,<3.1.0,>=2.0.0 in /home/gsimpson/PycharmProjects/pythonProject1/venv/lib/python3.8/site-packages (from ipython>=4.0.0->ipywidgets->tensorwatch) (3.0.18)\r\n",
      "Requirement already satisfied: pexpect>4.3 in /home/gsimpson/PycharmProjects/pythonProject1/venv/lib/python3.8/site-packages (from ipython>=4.0.0->ipywidgets->tensorwatch) (4.8.0)\r\n",
      "Requirement already satisfied: backcall in /home/gsimpson/PycharmProjects/pythonProject1/venv/lib/python3.8/site-packages (from ipython>=4.0.0->ipywidgets->tensorwatch) (0.2.0)\r\n",
      "Requirement already satisfied: decorator in /home/gsimpson/PycharmProjects/pythonProject1/venv/lib/python3.8/site-packages (from ipython>=4.0.0->ipywidgets->tensorwatch) (5.0.7)\r\n",
      "Requirement already satisfied: setuptools>=18.5 in /home/gsimpson/PycharmProjects/pythonProject1/venv/lib/python3.8/site-packages (from ipython>=4.0.0->ipywidgets->tensorwatch) (54.2.0)\r\n",
      "Requirement already satisfied: pickleshare in /home/gsimpson/PycharmProjects/pythonProject1/venv/lib/python3.8/site-packages (from ipython>=4.0.0->ipywidgets->tensorwatch) (0.7.5)\r\n",
      "Requirement already satisfied: parso<0.9.0,>=0.8.0 in /home/gsimpson/PycharmProjects/pythonProject1/venv/lib/python3.8/site-packages (from jedi>=0.16->ipython>=4.0.0->ipywidgets->tensorwatch) (0.8.2)\r\n",
      "Requirement already satisfied: jupyter-core in /home/gsimpson/PycharmProjects/pythonProject1/venv/lib/python3.8/site-packages (from nbformat->tensorwatch) (4.7.1)\r\n",
      "Requirement already satisfied: ipython-genutils in /home/gsimpson/PycharmProjects/pythonProject1/venv/lib/python3.8/site-packages (from nbformat->tensorwatch) (0.2.0)\r\n",
      "Requirement already satisfied: jsonschema!=2.5.0,>=2.4 in /home/gsimpson/PycharmProjects/pythonProject1/venv/lib/python3.8/site-packages (from nbformat->tensorwatch) (3.2.0)\r\n",
      "Requirement already satisfied: six>=1.11.0 in /home/gsimpson/PycharmProjects/pythonProject1/venv/lib/python3.8/site-packages (from jsonschema!=2.5.0,>=2.4->nbformat->tensorwatch) (1.15.0)\r\n",
      "Requirement already satisfied: attrs>=17.4.0 in /home/gsimpson/PycharmProjects/pythonProject1/venv/lib/python3.8/site-packages (from jsonschema!=2.5.0,>=2.4->nbformat->tensorwatch) (20.3.0)\r\n",
      "Requirement already satisfied: pyrsistent>=0.14.0 in /home/gsimpson/PycharmProjects/pythonProject1/venv/lib/python3.8/site-packages (from jsonschema!=2.5.0,>=2.4->nbformat->tensorwatch) (0.17.3)\r\n",
      "Requirement already satisfied: ptyprocess>=0.5 in /home/gsimpson/PycharmProjects/pythonProject1/venv/lib/python3.8/site-packages (from pexpect>4.3->ipython>=4.0.0->ipywidgets->tensorwatch) (0.7.0)\r\n",
      "Requirement already satisfied: wcwidth in /home/gsimpson/PycharmProjects/pythonProject1/venv/lib/python3.8/site-packages (from prompt-toolkit!=3.0.0,!=3.0.1,<3.1.0,>=2.0.0->ipython>=4.0.0->ipywidgets->tensorwatch) (0.2.5)\r\n",
      "Requirement already satisfied: notebook>=4.4.1 in /home/gsimpson/PycharmProjects/pythonProject1/venv/lib/python3.8/site-packages (from widgetsnbextension~=3.5.0->ipywidgets->tensorwatch) (6.3.0)\r\n",
      "Requirement already satisfied: Send2Trash>=1.5.0 in /home/gsimpson/PycharmProjects/pythonProject1/venv/lib/python3.8/site-packages (from notebook>=4.4.1->widgetsnbextension~=3.5.0->ipywidgets->tensorwatch) (1.5.0)\r\n",
      "Requirement already satisfied: argon2-cffi in /home/gsimpson/PycharmProjects/pythonProject1/venv/lib/python3.8/site-packages (from notebook>=4.4.1->widgetsnbextension~=3.5.0->ipywidgets->tensorwatch) (20.1.0)\r\n",
      "Requirement already satisfied: terminado>=0.8.3 in /home/gsimpson/PycharmProjects/pythonProject1/venv/lib/python3.8/site-packages (from notebook>=4.4.1->widgetsnbextension~=3.5.0->ipywidgets->tensorwatch) (0.9.4)\r\n",
      "Requirement already satisfied: prometheus-client in /home/gsimpson/PycharmProjects/pythonProject1/venv/lib/python3.8/site-packages (from notebook>=4.4.1->widgetsnbextension~=3.5.0->ipywidgets->tensorwatch) (0.10.1)\r\n",
      "Requirement already satisfied: nbconvert in /home/gsimpson/PycharmProjects/pythonProject1/venv/lib/python3.8/site-packages (from notebook>=4.4.1->widgetsnbextension~=3.5.0->ipywidgets->tensorwatch) (6.0.7)\r\n",
      "Requirement already satisfied: jinja2 in /home/gsimpson/PycharmProjects/pythonProject1/venv/lib/python3.8/site-packages (from notebook>=4.4.1->widgetsnbextension~=3.5.0->ipywidgets->tensorwatch) (2.11.3)\r\n",
      "Requirement already satisfied: python-dateutil>=2.1 in /home/gsimpson/PycharmProjects/pythonProject1/venv/lib/python3.8/site-packages (from jupyter-client->ipykernel>=4.5.1->ipywidgets->tensorwatch) (2.8.1)\r\n",
      "Requirement already satisfied: cffi>=1.0.0 in /home/gsimpson/PycharmProjects/pythonProject1/venv/lib/python3.8/site-packages (from argon2-cffi->notebook>=4.4.1->widgetsnbextension~=3.5.0->ipywidgets->tensorwatch) (1.14.5)\r\n",
      "Requirement already satisfied: pycparser in /home/gsimpson/PycharmProjects/pythonProject1/venv/lib/python3.8/site-packages (from cffi>=1.0.0->argon2-cffi->notebook>=4.4.1->widgetsnbextension~=3.5.0->ipywidgets->tensorwatch) (2.20)\r\n",
      "Requirement already satisfied: MarkupSafe>=0.23 in /home/gsimpson/PycharmProjects/pythonProject1/venv/lib/python3.8/site-packages (from jinja2->notebook>=4.4.1->widgetsnbextension~=3.5.0->ipywidgets->tensorwatch) (1.1.1)\r\n",
      "Requirement already satisfied: pillow>=6.2.0 in /home/gsimpson/PycharmProjects/pythonProject1/venv/lib/python3.8/site-packages (from matplotlib->tensorwatch) (8.2.0)\r\n",
      "Requirement already satisfied: cycler>=0.10 in /home/gsimpson/PycharmProjects/pythonProject1/venv/lib/python3.8/site-packages (from matplotlib->tensorwatch) (0.10.0)\r\n",
      "Requirement already satisfied: kiwisolver>=1.0.1 in /home/gsimpson/PycharmProjects/pythonProject1/venv/lib/python3.8/site-packages (from matplotlib->tensorwatch) (1.3.1)\r\n",
      "Requirement already satisfied: pyparsing>=2.2.1 in /home/gsimpson/PycharmProjects/pythonProject1/venv/lib/python3.8/site-packages (from matplotlib->tensorwatch) (2.4.7)\r\n",
      "Requirement already satisfied: mistune<2,>=0.8.1 in /home/gsimpson/PycharmProjects/pythonProject1/venv/lib/python3.8/site-packages (from nbconvert->notebook>=4.4.1->widgetsnbextension~=3.5.0->ipywidgets->tensorwatch) (0.8.4)\r\n",
      "Requirement already satisfied: jupyterlab-pygments in /home/gsimpson/PycharmProjects/pythonProject1/venv/lib/python3.8/site-packages (from nbconvert->notebook>=4.4.1->widgetsnbextension~=3.5.0->ipywidgets->tensorwatch) (0.1.2)\r\n",
      "Requirement already satisfied: bleach in /home/gsimpson/PycharmProjects/pythonProject1/venv/lib/python3.8/site-packages (from nbconvert->notebook>=4.4.1->widgetsnbextension~=3.5.0->ipywidgets->tensorwatch) (3.3.0)\r\n",
      "Requirement already satisfied: testpath in /home/gsimpson/PycharmProjects/pythonProject1/venv/lib/python3.8/site-packages (from nbconvert->notebook>=4.4.1->widgetsnbextension~=3.5.0->ipywidgets->tensorwatch) (0.4.4)\r\n",
      "Requirement already satisfied: nbclient<0.6.0,>=0.5.0 in /home/gsimpson/PycharmProjects/pythonProject1/venv/lib/python3.8/site-packages (from nbconvert->notebook>=4.4.1->widgetsnbextension~=3.5.0->ipywidgets->tensorwatch) (0.5.3)\r\n",
      "Requirement already satisfied: entrypoints>=0.2.2 in /home/gsimpson/PycharmProjects/pythonProject1/venv/lib/python3.8/site-packages (from nbconvert->notebook>=4.4.1->widgetsnbextension~=3.5.0->ipywidgets->tensorwatch) (0.3)\r\n",
      "Requirement already satisfied: pandocfilters>=1.4.1 in /home/gsimpson/PycharmProjects/pythonProject1/venv/lib/python3.8/site-packages (from nbconvert->notebook>=4.4.1->widgetsnbextension~=3.5.0->ipywidgets->tensorwatch) (1.4.3)\r\n",
      "Requirement already satisfied: defusedxml in /home/gsimpson/PycharmProjects/pythonProject1/venv/lib/python3.8/site-packages (from nbconvert->notebook>=4.4.1->widgetsnbextension~=3.5.0->ipywidgets->tensorwatch) (0.7.1)\r\n",
      "Requirement already satisfied: async-generator in /home/gsimpson/PycharmProjects/pythonProject1/venv/lib/python3.8/site-packages (from nbclient<0.6.0,>=0.5.0->nbconvert->notebook>=4.4.1->widgetsnbextension~=3.5.0->ipywidgets->tensorwatch) (1.10)\r\n",
      "Requirement already satisfied: nest-asyncio in /home/gsimpson/PycharmProjects/pythonProject1/venv/lib/python3.8/site-packages (from nbclient<0.6.0,>=0.5.0->nbconvert->notebook>=4.4.1->widgetsnbextension~=3.5.0->ipywidgets->tensorwatch) (1.5.1)\r\n",
      "Requirement already satisfied: packaging in /home/gsimpson/PycharmProjects/pythonProject1/venv/lib/python3.8/site-packages (from bleach->nbconvert->notebook>=4.4.1->widgetsnbextension~=3.5.0->ipywidgets->tensorwatch) (20.9)\r\n",
      "Requirement already satisfied: webencodings in /home/gsimpson/PycharmProjects/pythonProject1/venv/lib/python3.8/site-packages (from bleach->nbconvert->notebook>=4.4.1->widgetsnbextension~=3.5.0->ipywidgets->tensorwatch) (0.5.1)\r\n",
      "Collecting retrying>=1.3.3\r\n",
      "  Downloading retrying-1.3.3.tar.gz (10 kB)\r\n",
      "Collecting PyWavelets>=1.1.1\r\n",
      "  Downloading PyWavelets-1.1.1-cp38-cp38-manylinux1_x86_64.whl (4.4 MB)\r\n",
      "\u001B[K     |████████████████████████████████| 4.4 MB 10.7 MB/s eta 0:00:01\r\n",
      "\u001B[?25hCollecting tifffile>=2019.7.26\r\n",
      "  Downloading tifffile-2021.4.8-py3-none-any.whl (165 kB)\r\n",
      "\u001B[K     |████████████████████████████████| 165 kB 11.6 MB/s eta 0:00:01\r\n",
      "\u001B[?25hRequirement already satisfied: scipy>=1.0.1 in /home/gsimpson/PycharmProjects/pythonProject1/venv/lib/python3.8/site-packages (from scikit-image->tensorwatch) (1.4.1)\r\n",
      "Collecting imageio>=2.3.0\r\n",
      "  Downloading imageio-2.9.0-py3-none-any.whl (3.3 MB)\r\n",
      "\u001B[K     |████████████████████████████████| 3.3 MB 12.0 MB/s eta 0:00:01     |██▊                             | 276 kB 12.0 MB/s eta 0:00:01\r\n",
      "\u001B[?25hCollecting networkx>=2.0\r\n",
      "  Downloading networkx-2.5.1-py3-none-any.whl (1.6 MB)\r\n",
      "\u001B[K     |████████████████████████████████| 1.6 MB 12.2 MB/s eta 0:00:01\r\n",
      "\u001B[?25hCollecting decorator\r\n",
      "  Using cached decorator-4.4.2-py2.py3-none-any.whl (9.2 kB)\r\n",
      "Building wheels for collected packages: tensorwatch, retrying, pydotz\r\n",
      "  Building wheel for tensorwatch (setup.py) ... \u001B[?25l-\b \b\\\b \bdone\r\n",
      "\u001B[?25h  Created wheel for tensorwatch: filename=tensorwatch-0.9.1-py3-none-any.whl size=214528 sha256=781a58baad2b409742f6d92ae3062215324036122f9e74a927846b54ee0cec96\r\n",
      "  Stored in directory: /home/gsimpson/.cache/pip/wheels/ff/b1/21/0c8460e1eb24d1a9e921cd730f2a7df45d648a228f8e5e6d0b\r\n",
      "  Building wheel for retrying (setup.py) ... \u001B[?25l-\b \bdone\r\n",
      "\u001B[?25h  Created wheel for retrying: filename=retrying-1.3.3-py3-none-any.whl size=11429 sha256=a5ae784ff9702e89513223c62c4d6ea952cef14f9ec829de18704cc0d6e58778\r\n",
      "  Stored in directory: /home/gsimpson/.cache/pip/wheels/c4/a7/48/0a434133f6d56e878ca511c0e6c38326907c0792f67b476e56\r\n",
      "  Building wheel for pydotz (setup.py) ... \u001B[?25l-\b \bdone\r\n",
      "\u001B[?25h  Created wheel for pydotz: filename=pydotz-1.5.1-py2.py3-none-any.whl size=20172 sha256=776e4d2d42d79bd949c31f4f74ce97f678939204c5c033bae7224567f105f214\r\n",
      "  Stored in directory: /home/gsimpson/.cache/pip/wheels/6b/0f/cf/f4e9a6dbeff975adeaa04c4575968e55b0bd04d94fde095a2f\r\n",
      "Successfully built tensorwatch retrying pydotz\r\n",
      "Installing collected packages: decorator, tifffile, retrying, PyWavelets, networkx, imageio, scikit-image, pydotz, plotly, graphviz, tensorwatch\r\n",
      "  Attempting uninstall: decorator\r\n",
      "    Found existing installation: decorator 5.0.7\r\n",
      "    Uninstalling decorator-5.0.7:\r\n",
      "      Successfully uninstalled decorator-5.0.7\r\n",
      "Successfully installed PyWavelets-1.1.1 decorator-4.4.2 graphviz-0.16 imageio-2.9.0 networkx-2.5.1 plotly-4.14.3 pydotz-1.5.1 retrying-1.3.3 scikit-image-0.18.1 tensorwatch-0.9.1 tifffile-2021.4.8\r\n"
     ]
    }
   ],
   "source": [
    "!pip install tensorwatch\n"
   ],
   "metadata": {
    "collapsed": false,
    "pycharm": {
     "name": "#%%\n"
    }
   }
  }
 ],
 "metadata": {
  "kernelspec": {
   "display_name": "Python 3",
   "language": "python",
   "name": "python3"
  },
  "language_info": {
   "codemirror_mode": {
    "name": "ipython",
    "version": 2
   },
   "file_extension": ".py",
   "mimetype": "text/x-python",
   "name": "python",
   "nbconvert_exporter": "python",
   "pygments_lexer": "ipython2",
   "version": "2.7.6"
  }
 },
 "nbformat": 4,
 "nbformat_minor": 0
}