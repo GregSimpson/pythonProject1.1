{
 "cells": [
  {
   "cell_type": "code",
   "execution_count": 51,
   "metadata": {
    "collapsed": true
   },
   "outputs": [],
   "source": []
  },
  {
   "cell_type": "code",
   "execution_count": 52,
   "outputs": [
    {
     "name": "stdout",
     "output_type": "stream",
     "text": [
      "Requirement already satisfied: lux-api in /home/gsimpson/PycharmProjects/pythonProject1/venv/lib/python3.8/site-packages (0.3.0)\r\n",
      "Requirement already satisfied: scikit-learn>=0.22 in /home/gsimpson/PycharmProjects/pythonProject1/venv/lib/python3.8/site-packages (from lux-api) (0.23.1)\r\n",
      "Requirement already satisfied: altair>=4.0.0 in /home/gsimpson/PycharmProjects/pythonProject1/venv/lib/python3.8/site-packages (from lux-api) (4.1.0)\r\n",
      "Requirement already satisfied: us in /home/gsimpson/PycharmProjects/pythonProject1/venv/lib/python3.8/site-packages (from lux-api) (2.0.2)\r\n",
      "Requirement already satisfied: numpy>=1.16.5 in /home/gsimpson/PycharmProjects/pythonProject1/venv/lib/python3.8/site-packages (from lux-api) (1.19.1)\r\n",
      "Requirement already satisfied: matplotlib>=3.0.0 in /home/gsimpson/PycharmProjects/pythonProject1/venv/lib/python3.8/site-packages (from lux-api) (3.4.1)\r\n",
      "Requirement already satisfied: lux-widget>=0.1.4 in /home/gsimpson/PycharmProjects/pythonProject1/venv/lib/python3.8/site-packages (from lux-api) (0.1.5)\r\n",
      "Requirement already satisfied: scipy>=1.3.3 in /home/gsimpson/PycharmProjects/pythonProject1/venv/lib/python3.8/site-packages (from lux-api) (1.5.4)\r\n",
      "Requirement already satisfied: pandas>=1.2.0 in /home/gsimpson/PycharmProjects/pythonProject1/venv/lib/python3.8/site-packages (from lux-api) (1.2.4)\r\n",
      "Requirement already satisfied: iso3166 in /home/gsimpson/PycharmProjects/pythonProject1/venv/lib/python3.8/site-packages (from lux-api) (1.0.1)\r\n",
      "Requirement already satisfied: toolz in /home/gsimpson/PycharmProjects/pythonProject1/venv/lib/python3.8/site-packages (from altair>=4.0.0->lux-api) (0.11.1)\r\n",
      "Requirement already satisfied: jsonschema in /home/gsimpson/PycharmProjects/pythonProject1/venv/lib/python3.8/site-packages (from altair>=4.0.0->lux-api) (3.2.0)\r\n",
      "Requirement already satisfied: jinja2 in /home/gsimpson/PycharmProjects/pythonProject1/venv/lib/python3.8/site-packages (from altair>=4.0.0->lux-api) (2.11.3)\r\n",
      "Requirement already satisfied: entrypoints in /home/gsimpson/PycharmProjects/pythonProject1/venv/lib/python3.8/site-packages (from altair>=4.0.0->lux-api) (0.3)\r\n",
      "Requirement already satisfied: notebook>=4.0.0 in /home/gsimpson/PycharmProjects/pythonProject1/venv/lib/python3.8/site-packages (from lux-widget>=0.1.4->lux-api) (6.3.0)\r\n",
      "Requirement already satisfied: ipywidgets>=7.5.0 in /home/gsimpson/PycharmProjects/pythonProject1/venv/lib/python3.8/site-packages (from lux-widget>=0.1.4->lux-api) (7.6.3)\r\n",
      "Requirement already satisfied: jupyterlab-widgets>=1.0.0 in /home/gsimpson/PycharmProjects/pythonProject1/venv/lib/python3.8/site-packages (from ipywidgets>=7.5.0->lux-widget>=0.1.4->lux-api) (1.0.0)\r\n",
      "Requirement already satisfied: widgetsnbextension~=3.5.0 in /home/gsimpson/PycharmProjects/pythonProject1/venv/lib/python3.8/site-packages (from ipywidgets>=7.5.0->lux-widget>=0.1.4->lux-api) (3.5.1)\r\n",
      "Requirement already satisfied: traitlets>=4.3.1 in /home/gsimpson/PycharmProjects/pythonProject1/venv/lib/python3.8/site-packages (from ipywidgets>=7.5.0->lux-widget>=0.1.4->lux-api) (5.0.5)\r\n",
      "Requirement already satisfied: ipython>=4.0.0 in /home/gsimpson/PycharmProjects/pythonProject1/venv/lib/python3.8/site-packages (from ipywidgets>=7.5.0->lux-widget>=0.1.4->lux-api) (7.22.0)\r\n",
      "Requirement already satisfied: nbformat>=4.2.0 in /home/gsimpson/PycharmProjects/pythonProject1/venv/lib/python3.8/site-packages (from ipywidgets>=7.5.0->lux-widget>=0.1.4->lux-api) (5.1.3)\r\n",
      "Requirement already satisfied: ipykernel>=4.5.1 in /home/gsimpson/PycharmProjects/pythonProject1/venv/lib/python3.8/site-packages (from ipywidgets>=7.5.0->lux-widget>=0.1.4->lux-api) (5.5.3)\r\n",
      "Requirement already satisfied: jupyter-client in /home/gsimpson/PycharmProjects/pythonProject1/venv/lib/python3.8/site-packages (from ipykernel>=4.5.1->ipywidgets>=7.5.0->lux-widget>=0.1.4->lux-api) (6.1.12)\r\n",
      "Requirement already satisfied: tornado>=4.2 in /home/gsimpson/PycharmProjects/pythonProject1/venv/lib/python3.8/site-packages (from ipykernel>=4.5.1->ipywidgets>=7.5.0->lux-widget>=0.1.4->lux-api) (6.1)\r\n",
      "Requirement already satisfied: prompt-toolkit!=3.0.0,!=3.0.1,<3.1.0,>=2.0.0 in /home/gsimpson/PycharmProjects/pythonProject1/venv/lib/python3.8/site-packages (from ipython>=4.0.0->ipywidgets>=7.5.0->lux-widget>=0.1.4->lux-api) (3.0.18)\r\n",
      "Requirement already satisfied: setuptools>=18.5 in /home/gsimpson/PycharmProjects/pythonProject1/venv/lib/python3.8/site-packages (from ipython>=4.0.0->ipywidgets>=7.5.0->lux-widget>=0.1.4->lux-api) (54.2.0)\r\n",
      "Requirement already satisfied: jedi>=0.16 in /home/gsimpson/PycharmProjects/pythonProject1/venv/lib/python3.8/site-packages (from ipython>=4.0.0->ipywidgets>=7.5.0->lux-widget>=0.1.4->lux-api) (0.18.0)\r\n",
      "Requirement already satisfied: pygments in /home/gsimpson/PycharmProjects/pythonProject1/venv/lib/python3.8/site-packages (from ipython>=4.0.0->ipywidgets>=7.5.0->lux-widget>=0.1.4->lux-api) (2.8.1)\r\n",
      "Requirement already satisfied: pickleshare in /home/gsimpson/PycharmProjects/pythonProject1/venv/lib/python3.8/site-packages (from ipython>=4.0.0->ipywidgets>=7.5.0->lux-widget>=0.1.4->lux-api) (0.7.5)\r\n",
      "Requirement already satisfied: pexpect>4.3 in /home/gsimpson/PycharmProjects/pythonProject1/venv/lib/python3.8/site-packages (from ipython>=4.0.0->ipywidgets>=7.5.0->lux-widget>=0.1.4->lux-api) (4.8.0)\r\n",
      "Requirement already satisfied: decorator in /home/gsimpson/PycharmProjects/pythonProject1/venv/lib/python3.8/site-packages (from ipython>=4.0.0->ipywidgets>=7.5.0->lux-widget>=0.1.4->lux-api) (5.0.7)\r\n",
      "Requirement already satisfied: backcall in /home/gsimpson/PycharmProjects/pythonProject1/venv/lib/python3.8/site-packages (from ipython>=4.0.0->ipywidgets>=7.5.0->lux-widget>=0.1.4->lux-api) (0.2.0)\r\n",
      "Requirement already satisfied: parso<0.9.0,>=0.8.0 in /home/gsimpson/PycharmProjects/pythonProject1/venv/lib/python3.8/site-packages (from jedi>=0.16->ipython>=4.0.0->ipywidgets>=7.5.0->lux-widget>=0.1.4->lux-api) (0.8.2)\r\n",
      "Requirement already satisfied: pyparsing>=2.2.1 in /home/gsimpson/PycharmProjects/pythonProject1/venv/lib/python3.8/site-packages (from matplotlib>=3.0.0->lux-api) (2.4.7)\r\n",
      "Requirement already satisfied: cycler>=0.10 in /home/gsimpson/PycharmProjects/pythonProject1/venv/lib/python3.8/site-packages (from matplotlib>=3.0.0->lux-api) (0.10.0)\r\n",
      "Requirement already satisfied: kiwisolver>=1.0.1 in /home/gsimpson/PycharmProjects/pythonProject1/venv/lib/python3.8/site-packages (from matplotlib>=3.0.0->lux-api) (1.3.1)\r\n",
      "Requirement already satisfied: pillow>=6.2.0 in /home/gsimpson/PycharmProjects/pythonProject1/venv/lib/python3.8/site-packages (from matplotlib>=3.0.0->lux-api) (8.2.0)\r\n",
      "Requirement already satisfied: python-dateutil>=2.7 in /home/gsimpson/PycharmProjects/pythonProject1/venv/lib/python3.8/site-packages (from matplotlib>=3.0.0->lux-api) (2.8.1)\r\n",
      "Requirement already satisfied: six in /home/gsimpson/PycharmProjects/pythonProject1/venv/lib/python3.8/site-packages (from cycler>=0.10->matplotlib>=3.0.0->lux-api) (1.15.0)\r\n",
      "Requirement already satisfied: jupyter-core in /home/gsimpson/PycharmProjects/pythonProject1/venv/lib/python3.8/site-packages (from nbformat>=4.2.0->ipywidgets>=7.5.0->lux-widget>=0.1.4->lux-api) (4.7.1)\r\n",
      "Requirement already satisfied: ipython-genutils in /home/gsimpson/PycharmProjects/pythonProject1/venv/lib/python3.8/site-packages (from nbformat>=4.2.0->ipywidgets>=7.5.0->lux-widget>=0.1.4->lux-api) (0.2.0)\r\n",
      "Requirement already satisfied: attrs>=17.4.0 in /home/gsimpson/PycharmProjects/pythonProject1/venv/lib/python3.8/site-packages (from jsonschema->altair>=4.0.0->lux-api) (20.3.0)\r\n",
      "Requirement already satisfied: pyrsistent>=0.14.0 in /home/gsimpson/PycharmProjects/pythonProject1/venv/lib/python3.8/site-packages (from jsonschema->altair>=4.0.0->lux-api) (0.17.3)\r\n",
      "Requirement already satisfied: Send2Trash>=1.5.0 in /home/gsimpson/PycharmProjects/pythonProject1/venv/lib/python3.8/site-packages (from notebook>=4.0.0->lux-widget>=0.1.4->lux-api) (1.5.0)\r\n",
      "Requirement already satisfied: nbconvert in /home/gsimpson/PycharmProjects/pythonProject1/venv/lib/python3.8/site-packages (from notebook>=4.0.0->lux-widget>=0.1.4->lux-api) (6.0.7)\r\n",
      "Requirement already satisfied: pyzmq>=17 in /home/gsimpson/PycharmProjects/pythonProject1/venv/lib/python3.8/site-packages (from notebook>=4.0.0->lux-widget>=0.1.4->lux-api) (22.0.3)\r\n",
      "Requirement already satisfied: argon2-cffi in /home/gsimpson/PycharmProjects/pythonProject1/venv/lib/python3.8/site-packages (from notebook>=4.0.0->lux-widget>=0.1.4->lux-api) (20.1.0)\r\n",
      "Requirement already satisfied: prometheus-client in /home/gsimpson/PycharmProjects/pythonProject1/venv/lib/python3.8/site-packages (from notebook>=4.0.0->lux-widget>=0.1.4->lux-api) (0.10.1)\r\n",
      "Requirement already satisfied: terminado>=0.8.3 in /home/gsimpson/PycharmProjects/pythonProject1/venv/lib/python3.8/site-packages (from notebook>=4.0.0->lux-widget>=0.1.4->lux-api) (0.9.4)\r\n",
      "Requirement already satisfied: pytz>=2017.3 in /home/gsimpson/PycharmProjects/pythonProject1/venv/lib/python3.8/site-packages (from pandas>=1.2.0->lux-api) (2021.1)\r\n",
      "Requirement already satisfied: ptyprocess>=0.5 in /home/gsimpson/PycharmProjects/pythonProject1/venv/lib/python3.8/site-packages (from pexpect>4.3->ipython>=4.0.0->ipywidgets>=7.5.0->lux-widget>=0.1.4->lux-api) (0.7.0)\r\n",
      "Requirement already satisfied: wcwidth in /home/gsimpson/PycharmProjects/pythonProject1/venv/lib/python3.8/site-packages (from prompt-toolkit!=3.0.0,!=3.0.1,<3.1.0,>=2.0.0->ipython>=4.0.0->ipywidgets>=7.5.0->lux-widget>=0.1.4->lux-api) (0.2.5)\r\n",
      "Requirement already satisfied: threadpoolctl>=2.0.0 in /home/gsimpson/PycharmProjects/pythonProject1/venv/lib/python3.8/site-packages (from scikit-learn>=0.22->lux-api) (2.1.0)\r\n",
      "Requirement already satisfied: joblib>=0.11 in /home/gsimpson/PycharmProjects/pythonProject1/venv/lib/python3.8/site-packages (from scikit-learn>=0.22->lux-api) (1.0.0)\r\n",
      "Requirement already satisfied: cffi>=1.0.0 in /home/gsimpson/PycharmProjects/pythonProject1/venv/lib/python3.8/site-packages (from argon2-cffi->notebook>=4.0.0->lux-widget>=0.1.4->lux-api) (1.14.5)\r\n",
      "Requirement already satisfied: pycparser in /home/gsimpson/PycharmProjects/pythonProject1/venv/lib/python3.8/site-packages (from cffi>=1.0.0->argon2-cffi->notebook>=4.0.0->lux-widget>=0.1.4->lux-api) (2.20)\r\n",
      "Requirement already satisfied: MarkupSafe>=0.23 in /home/gsimpson/PycharmProjects/pythonProject1/venv/lib/python3.8/site-packages (from jinja2->altair>=4.0.0->lux-api) (1.1.1)\r\n",
      "Requirement already satisfied: defusedxml in /home/gsimpson/PycharmProjects/pythonProject1/venv/lib/python3.8/site-packages (from nbconvert->notebook>=4.0.0->lux-widget>=0.1.4->lux-api) (0.7.1)\r\n",
      "Requirement already satisfied: nbclient<0.6.0,>=0.5.0 in /home/gsimpson/PycharmProjects/pythonProject1/venv/lib/python3.8/site-packages (from nbconvert->notebook>=4.0.0->lux-widget>=0.1.4->lux-api) (0.5.3)\r\n",
      "Requirement already satisfied: mistune<2,>=0.8.1 in /home/gsimpson/PycharmProjects/pythonProject1/venv/lib/python3.8/site-packages (from nbconvert->notebook>=4.0.0->lux-widget>=0.1.4->lux-api) (0.8.4)\r\n",
      "Requirement already satisfied: testpath in /home/gsimpson/PycharmProjects/pythonProject1/venv/lib/python3.8/site-packages (from nbconvert->notebook>=4.0.0->lux-widget>=0.1.4->lux-api) (0.4.4)\r\n",
      "Requirement already satisfied: jupyterlab-pygments in /home/gsimpson/PycharmProjects/pythonProject1/venv/lib/python3.8/site-packages (from nbconvert->notebook>=4.0.0->lux-widget>=0.1.4->lux-api) (0.1.2)\r\n",
      "Requirement already satisfied: pandocfilters>=1.4.1 in /home/gsimpson/PycharmProjects/pythonProject1/venv/lib/python3.8/site-packages (from nbconvert->notebook>=4.0.0->lux-widget>=0.1.4->lux-api) (1.4.3)\r\n",
      "Requirement already satisfied: bleach in /home/gsimpson/PycharmProjects/pythonProject1/venv/lib/python3.8/site-packages (from nbconvert->notebook>=4.0.0->lux-widget>=0.1.4->lux-api) (3.3.0)\r\n",
      "Requirement already satisfied: nest-asyncio in /home/gsimpson/PycharmProjects/pythonProject1/venv/lib/python3.8/site-packages (from nbclient<0.6.0,>=0.5.0->nbconvert->notebook>=4.0.0->lux-widget>=0.1.4->lux-api) (1.5.1)\r\n",
      "Requirement already satisfied: async-generator in /home/gsimpson/PycharmProjects/pythonProject1/venv/lib/python3.8/site-packages (from nbclient<0.6.0,>=0.5.0->nbconvert->notebook>=4.0.0->lux-widget>=0.1.4->lux-api) (1.10)\r\n",
      "Requirement already satisfied: webencodings in /home/gsimpson/PycharmProjects/pythonProject1/venv/lib/python3.8/site-packages (from bleach->nbconvert->notebook>=4.0.0->lux-widget>=0.1.4->lux-api) (0.5.1)\r\n",
      "Requirement already satisfied: packaging in /home/gsimpson/PycharmProjects/pythonProject1/venv/lib/python3.8/site-packages (from bleach->nbconvert->notebook>=4.0.0->lux-widget>=0.1.4->lux-api) (20.9)\r\n",
      "Requirement already satisfied: jellyfish==0.6.1 in /home/gsimpson/PycharmProjects/pythonProject1/venv/lib/python3.8/site-packages (from us->lux-api) (0.6.1)\r\n"
     ]
    }
   ],
   "source": [
    "# https://github.com/ismael-araujo/Testing-Libraries/blob/main/Lux/Vaccination-Progress-Analysis_Lux_API.ipynb\n",
    "\n",
    "# Installing Lux\n",
    "!pip install lux-api\n",
    "\n",
    "# Setup in Jupyter Notebook, VSCode, JupyterHub\n",
    "# !jupyter nbextension install --py luxwidget\n",
    "# !jupyter nbextension enable --py luxwidget"
   ],
   "metadata": {
    "collapsed": false,
    "pycharm": {
     "name": "#%%\n"
    }
   }
  },
  {
   "cell_type": "code",
   "execution_count": 53,
   "outputs": [],
   "source": [
    "# Import libraries\n",
    "import pandas as pd\n",
    "import lux\n",
    "\n",
    "# Hide warnings\n",
    "import warnings\n",
    "warnings.filterwarnings(\"ignore\")"
   ],
   "metadata": {
    "collapsed": false,
    "pycharm": {
     "name": "#%%\n"
    }
   }
  },
  {
   "cell_type": "code",
   "execution_count": 54,
   "outputs": [],
   "source": [
    "# Import dataset\n",
    "df = pd.read_csv('/home/gsimpson/PycharmProjects/pythonProject1/mediumNotes/data/archive/country_vaccinations.csv')\n",
    "#df"
   ],
   "metadata": {
    "collapsed": false,
    "pycharm": {
     "name": "#%%\n"
    }
   }
  },
  {
   "cell_type": "code",
   "execution_count": 55,
   "outputs": [
    {
     "ename": "AttributeError",
     "evalue": "'NoneType' object has no attribute 'items'",
     "output_type": "error",
     "traceback": [
      "\u001B[0;31m---------------------------------------------------------------------------\u001B[0m",
      "\u001B[0;31mTypeError\u001B[0m                                 Traceback (most recent call last)",
      "\u001B[0;32m~/PycharmProjects/pythonProject1/venv/lib/python3.8/site-packages/lux/core/frame.py\u001B[0m in \u001B[0;36m_ipython_display_\u001B[0;34m(self)\u001B[0m\n\u001B[1;32m    570\u001B[0m                 \u001B[0;31m# df_to_display.maintain_recs() # compute the recommendations (TODO: This can be rendered in another thread in the background to populate self._widget)\u001B[0m\u001B[0;34m\u001B[0m\u001B[0;34m\u001B[0m\u001B[0;34m\u001B[0m\u001B[0m\n\u001B[0;32m--> 571\u001B[0;31m                 \u001B[0mself\u001B[0m\u001B[0;34m.\u001B[0m\u001B[0mmaintain_recs\u001B[0m\u001B[0;34m(\u001B[0m\u001B[0;34m)\u001B[0m\u001B[0;34m\u001B[0m\u001B[0;34m\u001B[0m\u001B[0m\n\u001B[0m\u001B[1;32m    572\u001B[0m \u001B[0;34m\u001B[0m\u001B[0m\n",
      "\u001B[0;32m~/PycharmProjects/pythonProject1/venv/lib/python3.8/site-packages/lux/core/frame.py\u001B[0m in \u001B[0;36mmaintain_recs\u001B[0;34m(self, is_series)\u001B[0m\n\u001B[1;32m    414\u001B[0m                 \u001B[0;31m# generate vis from globally registered actions and append to dataframe\u001B[0m\u001B[0;34m\u001B[0m\u001B[0;34m\u001B[0m\u001B[0;34m\u001B[0m\u001B[0m\n\u001B[0;32m--> 415\u001B[0;31m                 \u001B[0mcustom_action_collection\u001B[0m \u001B[0;34m=\u001B[0m \u001B[0mcustom_actions\u001B[0m\u001B[0;34m(\u001B[0m\u001B[0mrec_df\u001B[0m\u001B[0;34m)\u001B[0m\u001B[0;34m\u001B[0m\u001B[0;34m\u001B[0m\u001B[0m\n\u001B[0m\u001B[1;32m    416\u001B[0m                 \u001B[0;32mfor\u001B[0m \u001B[0mrec\u001B[0m \u001B[0;32min\u001B[0m \u001B[0mcustom_action_collection\u001B[0m\u001B[0;34m:\u001B[0m\u001B[0;34m\u001B[0m\u001B[0;34m\u001B[0m\u001B[0m\n",
      "\u001B[0;32m~/PycharmProjects/pythonProject1/venv/lib/python3.8/site-packages/lux/action/custom.py\u001B[0m in \u001B[0;36mcustom_actions\u001B[0;34m(ldf)\u001B[0m\n\u001B[1;32m     70\u001B[0m             \u001B[0mdisplay_condition\u001B[0m \u001B[0;34m=\u001B[0m \u001B[0mlux\u001B[0m\u001B[0;34m.\u001B[0m\u001B[0mconfig\u001B[0m\u001B[0;34m.\u001B[0m\u001B[0mactions\u001B[0m\u001B[0;34m[\u001B[0m\u001B[0maction_name\u001B[0m\u001B[0;34m]\u001B[0m\u001B[0;34m.\u001B[0m\u001B[0mdisplay_condition\u001B[0m\u001B[0;34m\u001B[0m\u001B[0;34m\u001B[0m\u001B[0m\n\u001B[0;32m---> 71\u001B[0;31m             \u001B[0;32mif\u001B[0m \u001B[0mdisplay_condition\u001B[0m \u001B[0;32mis\u001B[0m \u001B[0;32mNone\u001B[0m \u001B[0;32mor\u001B[0m \u001B[0;34m(\u001B[0m\u001B[0mdisplay_condition\u001B[0m \u001B[0;32mis\u001B[0m \u001B[0;32mnot\u001B[0m \u001B[0;32mNone\u001B[0m \u001B[0;32mand\u001B[0m \u001B[0mdisplay_condition\u001B[0m\u001B[0;34m(\u001B[0m\u001B[0mldf\u001B[0m\u001B[0;34m)\u001B[0m\u001B[0;34m)\u001B[0m\u001B[0;34m:\u001B[0m\u001B[0;34m\u001B[0m\u001B[0;34m\u001B[0m\u001B[0m\n\u001B[0m\u001B[1;32m     72\u001B[0m                 \u001B[0margs\u001B[0m \u001B[0;34m=\u001B[0m \u001B[0mlux\u001B[0m\u001B[0;34m.\u001B[0m\u001B[0mconfig\u001B[0m\u001B[0;34m.\u001B[0m\u001B[0mactions\u001B[0m\u001B[0;34m[\u001B[0m\u001B[0maction_name\u001B[0m\u001B[0;34m]\u001B[0m\u001B[0;34m.\u001B[0m\u001B[0margs\u001B[0m\u001B[0;34m\u001B[0m\u001B[0;34m\u001B[0m\u001B[0m\n",
      "\u001B[0;32m~/PycharmProjects/pythonProject1/venv/lib/python3.8/site-packages/lux/action/default.py\u001B[0m in \u001B[0;36m<lambda>\u001B[0;34m(ldf)\u001B[0m\n\u001B[1;32m     10\u001B[0m     \u001B[0;31m# display conditions for default actions\u001B[0m\u001B[0;34m\u001B[0m\u001B[0;34m\u001B[0m\u001B[0;34m\u001B[0m\u001B[0m\n\u001B[0;32m---> 11\u001B[0;31m     no_vis = lambda ldf: (ldf.current_vis is None) or (\n\u001B[0m\u001B[1;32m     12\u001B[0m         \u001B[0mldf\u001B[0m\u001B[0;34m.\u001B[0m\u001B[0mcurrent_vis\u001B[0m \u001B[0;32mis\u001B[0m \u001B[0;32mnot\u001B[0m \u001B[0;32mNone\u001B[0m \u001B[0;32mand\u001B[0m \u001B[0mlen\u001B[0m\u001B[0;34m(\u001B[0m\u001B[0mldf\u001B[0m\u001B[0;34m.\u001B[0m\u001B[0mcurrent_vis\u001B[0m\u001B[0;34m)\u001B[0m \u001B[0;34m==\u001B[0m \u001B[0;36m0\u001B[0m\u001B[0;34m\u001B[0m\u001B[0;34m\u001B[0m\u001B[0m\n",
      "\u001B[0;32m~/PycharmProjects/pythonProject1/venv/lib/python3.8/site-packages/lux/core/frame.py\u001B[0m in \u001B[0;36mcurrent_vis\u001B[0;34m(self)\u001B[0m\n\u001B[1;32m    335\u001B[0m         \u001B[0;32mif\u001B[0m \u001B[0mvalid_current_vis\u001B[0m \u001B[0;32mand\u001B[0m \u001B[0mValidator\u001B[0m\u001B[0;34m.\u001B[0m\u001B[0mvalidate_intent\u001B[0m\u001B[0;34m(\u001B[0m\u001B[0mself\u001B[0m\u001B[0;34m.\u001B[0m\u001B[0m_current_vis\u001B[0m\u001B[0;34m[\u001B[0m\u001B[0;36m0\u001B[0m\u001B[0;34m]\u001B[0m\u001B[0;34m.\u001B[0m\u001B[0mintent\u001B[0m\u001B[0;34m,\u001B[0m \u001B[0mself\u001B[0m\u001B[0;34m)\u001B[0m\u001B[0;34m:\u001B[0m\u001B[0;34m\u001B[0m\u001B[0;34m\u001B[0m\u001B[0m\n\u001B[0;32m--> 336\u001B[0;31m             \u001B[0mlux\u001B[0m\u001B[0;34m.\u001B[0m\u001B[0mconfig\u001B[0m\u001B[0;34m.\u001B[0m\u001B[0mexecutor\u001B[0m\u001B[0;34m.\u001B[0m\u001B[0mexecute\u001B[0m\u001B[0;34m(\u001B[0m\u001B[0mself\u001B[0m\u001B[0;34m.\u001B[0m\u001B[0m_current_vis\u001B[0m\u001B[0;34m,\u001B[0m \u001B[0mself\u001B[0m\u001B[0;34m)\u001B[0m\u001B[0;34m\u001B[0m\u001B[0;34m\u001B[0m\u001B[0m\n\u001B[0m\u001B[1;32m    337\u001B[0m         \u001B[0;32mreturn\u001B[0m \u001B[0mself\u001B[0m\u001B[0;34m.\u001B[0m\u001B[0m_current_vis\u001B[0m\u001B[0;34m\u001B[0m\u001B[0;34m\u001B[0m\u001B[0m\n",
      "\u001B[0;32m~/PycharmProjects/pythonProject1/venv/lib/python3.8/site-packages/lux/executor/PandasExecutor.py\u001B[0m in \u001B[0;36mexecute\u001B[0;34m(vislist, ldf)\u001B[0m\n\u001B[1;32m     97\u001B[0m             \u001B[0;32mif\u001B[0m \u001B[0mvis\u001B[0m\u001B[0;34m.\u001B[0m\u001B[0mmark\u001B[0m \u001B[0;34m==\u001B[0m \u001B[0;34m\"bar\"\u001B[0m \u001B[0;32mor\u001B[0m \u001B[0mvis\u001B[0m\u001B[0;34m.\u001B[0m\u001B[0mmark\u001B[0m \u001B[0;34m==\u001B[0m \u001B[0;34m\"line\"\u001B[0m \u001B[0;32mor\u001B[0m \u001B[0mvis\u001B[0m\u001B[0;34m.\u001B[0m\u001B[0mmark\u001B[0m \u001B[0;34m==\u001B[0m \u001B[0;34m\"geographical\"\u001B[0m\u001B[0;34m:\u001B[0m\u001B[0;34m\u001B[0m\u001B[0;34m\u001B[0m\u001B[0m\n\u001B[0;32m---> 98\u001B[0;31m                 \u001B[0mPandasExecutor\u001B[0m\u001B[0;34m.\u001B[0m\u001B[0mexecute_aggregate\u001B[0m\u001B[0;34m(\u001B[0m\u001B[0mvis\u001B[0m\u001B[0;34m,\u001B[0m \u001B[0misFiltered\u001B[0m\u001B[0;34m=\u001B[0m\u001B[0mfilter_executed\u001B[0m\u001B[0;34m)\u001B[0m\u001B[0;34m\u001B[0m\u001B[0;34m\u001B[0m\u001B[0m\n\u001B[0m\u001B[1;32m     99\u001B[0m             \u001B[0;32melif\u001B[0m \u001B[0mvis\u001B[0m\u001B[0;34m.\u001B[0m\u001B[0mmark\u001B[0m \u001B[0;34m==\u001B[0m \u001B[0;34m\"histogram\"\u001B[0m\u001B[0;34m:\u001B[0m\u001B[0;34m\u001B[0m\u001B[0;34m\u001B[0m\u001B[0m\n",
      "\u001B[0;32m~/PycharmProjects/pythonProject1/venv/lib/python3.8/site-packages/lux/executor/PandasExecutor.py\u001B[0m in \u001B[0;36mexecute_aggregate\u001B[0;34m(vis, isFiltered)\u001B[0m\n\u001B[1;32m    192\u001B[0m                 \u001B[0;32melse\u001B[0m\u001B[0;34m:\u001B[0m\u001B[0;34m\u001B[0m\u001B[0;34m\u001B[0m\u001B[0m\n\u001B[0;32m--> 193\u001B[0;31m                     groupby_result = vis.data.groupby(\n\u001B[0m\u001B[1;32m    194\u001B[0m                         \u001B[0mgroupby_attr\u001B[0m\u001B[0;34m.\u001B[0m\u001B[0mattribute\u001B[0m\u001B[0;34m,\u001B[0m \u001B[0mdropna\u001B[0m\u001B[0;34m=\u001B[0m\u001B[0;32mFalse\u001B[0m\u001B[0;34m,\u001B[0m \u001B[0mhistory\u001B[0m\u001B[0;34m=\u001B[0m\u001B[0;32mFalse\u001B[0m\u001B[0;34m\u001B[0m\u001B[0;34m\u001B[0m\u001B[0m\n",
      "\u001B[0;32m~/PycharmProjects/pythonProject1/venv/lib/python3.8/site-packages/lux/core/frame.py\u001B[0m in \u001B[0;36mgroupby\u001B[0;34m(self, *args, **kwargs)\u001B[0m\n\u001B[1;32m    842\u001B[0m             \u001B[0;32mdel\u001B[0m \u001B[0mkwargs\u001B[0m\u001B[0;34m[\u001B[0m\u001B[0;34m\"history\"\u001B[0m\u001B[0;34m]\u001B[0m\u001B[0;34m\u001B[0m\u001B[0;34m\u001B[0m\u001B[0m\n\u001B[0;32m--> 843\u001B[0;31m         \u001B[0mgroupby_obj\u001B[0m \u001B[0;34m=\u001B[0m \u001B[0msuper\u001B[0m\u001B[0;34m(\u001B[0m\u001B[0mLuxDataFrame\u001B[0m\u001B[0;34m,\u001B[0m \u001B[0mself\u001B[0m\u001B[0;34m)\u001B[0m\u001B[0;34m.\u001B[0m\u001B[0mgroupby\u001B[0m\u001B[0;34m(\u001B[0m\u001B[0;34m*\u001B[0m\u001B[0margs\u001B[0m\u001B[0;34m,\u001B[0m \u001B[0;34m**\u001B[0m\u001B[0mkwargs\u001B[0m\u001B[0;34m)\u001B[0m\u001B[0;34m\u001B[0m\u001B[0;34m\u001B[0m\u001B[0m\n\u001B[0m\u001B[1;32m    844\u001B[0m         \u001B[0;32mfor\u001B[0m \u001B[0mattr\u001B[0m \u001B[0;32min\u001B[0m \u001B[0mself\u001B[0m\u001B[0;34m.\u001B[0m\u001B[0m_metadata\u001B[0m\u001B[0;34m:\u001B[0m\u001B[0;34m\u001B[0m\u001B[0;34m\u001B[0m\u001B[0m\n",
      "\u001B[0;31mTypeError\u001B[0m: groupby() got an unexpected keyword argument 'dropna'",
      "\nDuring handling of the above exception, another exception occurred:\n",
      "\u001B[0;31mAttributeError\u001B[0m                            Traceback (most recent call last)",
      "\u001B[0;32m~/PycharmProjects/pythonProject1/venv/lib/python3.8/site-packages/IPython/core/formatters.py\u001B[0m in \u001B[0;36m__call__\u001B[0;34m(self, obj)\u001B[0m\n\u001B[1;32m    343\u001B[0m             \u001B[0mmethod\u001B[0m \u001B[0;34m=\u001B[0m \u001B[0mget_real_method\u001B[0m\u001B[0;34m(\u001B[0m\u001B[0mobj\u001B[0m\u001B[0;34m,\u001B[0m \u001B[0mself\u001B[0m\u001B[0;34m.\u001B[0m\u001B[0mprint_method\u001B[0m\u001B[0;34m)\u001B[0m\u001B[0;34m\u001B[0m\u001B[0;34m\u001B[0m\u001B[0m\n\u001B[1;32m    344\u001B[0m             \u001B[0;32mif\u001B[0m \u001B[0mmethod\u001B[0m \u001B[0;32mis\u001B[0m \u001B[0;32mnot\u001B[0m \u001B[0;32mNone\u001B[0m\u001B[0;34m:\u001B[0m\u001B[0;34m\u001B[0m\u001B[0;34m\u001B[0m\u001B[0m\n\u001B[0;32m--> 345\u001B[0;31m                 \u001B[0;32mreturn\u001B[0m \u001B[0mmethod\u001B[0m\u001B[0;34m(\u001B[0m\u001B[0;34m)\u001B[0m\u001B[0;34m\u001B[0m\u001B[0;34m\u001B[0m\u001B[0m\n\u001B[0m\u001B[1;32m    346\u001B[0m             \u001B[0;32mreturn\u001B[0m \u001B[0;32mNone\u001B[0m\u001B[0;34m\u001B[0m\u001B[0;34m\u001B[0m\u001B[0m\n\u001B[1;32m    347\u001B[0m         \u001B[0;32melse\u001B[0m\u001B[0;34m:\u001B[0m\u001B[0;34m\u001B[0m\u001B[0;34m\u001B[0m\u001B[0m\n",
      "\u001B[0;32m~/PycharmProjects/pythonProject1/venv/lib/python3.8/site-packages/pandas/core/frame.py\u001B[0m in \u001B[0;36m_repr_html_\u001B[0;34m(self)\u001B[0m\n\u001B[1;32m    732\u001B[0m         \u001B[0mGH3541\u001B[0m\u001B[0;34m,\u001B[0m \u001B[0mGH3573\u001B[0m\u001B[0;34m\u001B[0m\u001B[0;34m\u001B[0m\u001B[0m\n\u001B[1;32m    733\u001B[0m         \"\"\"\n\u001B[0;32m--> 734\u001B[0;31m         \u001B[0mwidth\u001B[0m\u001B[0;34m,\u001B[0m \u001B[0mheight\u001B[0m \u001B[0;34m=\u001B[0m \u001B[0mconsole\u001B[0m\u001B[0;34m.\u001B[0m\u001B[0mget_console_size\u001B[0m\u001B[0;34m(\u001B[0m\u001B[0;34m)\u001B[0m\u001B[0;34m\u001B[0m\u001B[0;34m\u001B[0m\u001B[0m\n\u001B[0m\u001B[1;32m    735\u001B[0m         \u001B[0mmax_columns\u001B[0m \u001B[0;34m=\u001B[0m \u001B[0mget_option\u001B[0m\u001B[0;34m(\u001B[0m\u001B[0;34m\"display.max_columns\"\u001B[0m\u001B[0;34m)\u001B[0m\u001B[0;34m\u001B[0m\u001B[0;34m\u001B[0m\u001B[0m\n\u001B[1;32m    736\u001B[0m         \u001B[0mnb_columns\u001B[0m \u001B[0;34m=\u001B[0m \u001B[0mlen\u001B[0m\u001B[0;34m(\u001B[0m\u001B[0mself\u001B[0m\u001B[0;34m.\u001B[0m\u001B[0mcolumns\u001B[0m\u001B[0;34m)\u001B[0m\u001B[0;34m\u001B[0m\u001B[0;34m\u001B[0m\u001B[0m\n",
      "\u001B[0;32m~/PycharmProjects/pythonProject1/venv/lib/python3.8/site-packages/pandas/io/formats/format.py\u001B[0m in \u001B[0;36mto_html\u001B[0;34m(self, buf, encoding, classes, notebook, border)\u001B[0m\n\u001B[1;32m    980\u001B[0m             \u001B[0mBuffer\u001B[0m \u001B[0mto\u001B[0m \u001B[0mwrite\u001B[0m \u001B[0mto\u001B[0m\u001B[0;34m.\u001B[0m \u001B[0mIf\u001B[0m \u001B[0;32mNone\u001B[0m\u001B[0;34m,\u001B[0m \u001B[0mthe\u001B[0m \u001B[0moutput\u001B[0m \u001B[0;32mis\u001B[0m \u001B[0mreturned\u001B[0m \u001B[0;32mas\u001B[0m \u001B[0ma\u001B[0m \u001B[0mstring\u001B[0m\u001B[0;34m.\u001B[0m\u001B[0;34m\u001B[0m\u001B[0;34m\u001B[0m\u001B[0m\n\u001B[1;32m    981\u001B[0m         \u001B[0mencoding\u001B[0m \u001B[0;34m:\u001B[0m \u001B[0mstr\u001B[0m\u001B[0;34m,\u001B[0m \u001B[0mdefault\u001B[0m\u001B[0;31m \u001B[0m\u001B[0;31m“\u001B[0m\u001B[0mutf\u001B[0m\u001B[0;34m-\u001B[0m\u001B[0;36m8\u001B[0m\u001B[0;31m”\u001B[0m\u001B[0;34m\u001B[0m\u001B[0;34m\u001B[0m\u001B[0m\n\u001B[0;32m--> 982\u001B[0;31m             \u001B[0mSet\u001B[0m \u001B[0mcharacter\u001B[0m \u001B[0mencoding\u001B[0m\u001B[0;34m.\u001B[0m\u001B[0;34m\u001B[0m\u001B[0;34m\u001B[0m\u001B[0m\n\u001B[0m\u001B[1;32m    983\u001B[0m         \u001B[0mclasses\u001B[0m \u001B[0;34m:\u001B[0m \u001B[0mstr\u001B[0m \u001B[0;32mor\u001B[0m \u001B[0mlist\u001B[0m\u001B[0;34m-\u001B[0m\u001B[0mlike\u001B[0m\u001B[0;34m\u001B[0m\u001B[0;34m\u001B[0m\u001B[0m\n\u001B[1;32m    984\u001B[0m             \u001B[0mclasses\u001B[0m \u001B[0mto\u001B[0m \u001B[0minclude\u001B[0m \u001B[0;32min\u001B[0m \u001B[0mthe\u001B[0m\u001B[0;31m \u001B[0m\u001B[0;31m`\u001B[0m\u001B[0;32mclass\u001B[0m\u001B[0;31m`\u001B[0m \u001B[0mattribute\u001B[0m \u001B[0mof\u001B[0m \u001B[0mthe\u001B[0m \u001B[0mopening\u001B[0m\u001B[0;34m\u001B[0m\u001B[0;34m\u001B[0m\u001B[0m\n",
      "\u001B[0;32m~/PycharmProjects/pythonProject1/venv/lib/python3.8/site-packages/pandas/io/formats/html.py\u001B[0m in \u001B[0;36m__init__\u001B[0;34m(self, formatter, classes, border, table_id, render_links)\u001B[0m\n\u001B[1;32m     54\u001B[0m         self.col_space = {\n\u001B[1;32m     55\u001B[0m             \u001B[0mcolumn\u001B[0m\u001B[0;34m:\u001B[0m \u001B[0;34mf\"{value}px\"\u001B[0m \u001B[0;32mif\u001B[0m \u001B[0misinstance\u001B[0m\u001B[0;34m(\u001B[0m\u001B[0mvalue\u001B[0m\u001B[0;34m,\u001B[0m \u001B[0mint\u001B[0m\u001B[0;34m)\u001B[0m \u001B[0;32melse\u001B[0m \u001B[0mvalue\u001B[0m\u001B[0;34m\u001B[0m\u001B[0;34m\u001B[0m\u001B[0m\n\u001B[0;32m---> 56\u001B[0;31m             \u001B[0;32mfor\u001B[0m \u001B[0mcolumn\u001B[0m\u001B[0;34m,\u001B[0m \u001B[0mvalue\u001B[0m \u001B[0;32min\u001B[0m \u001B[0mself\u001B[0m\u001B[0;34m.\u001B[0m\u001B[0mfmt\u001B[0m\u001B[0;34m.\u001B[0m\u001B[0mcol_space\u001B[0m\u001B[0;34m.\u001B[0m\u001B[0mitems\u001B[0m\u001B[0;34m(\u001B[0m\u001B[0;34m)\u001B[0m\u001B[0;34m\u001B[0m\u001B[0;34m\u001B[0m\u001B[0m\n\u001B[0m\u001B[1;32m     57\u001B[0m         }\n\u001B[1;32m     58\u001B[0m \u001B[0;34m\u001B[0m\u001B[0m\n",
      "\u001B[0;31mAttributeError\u001B[0m: 'NoneType' object has no attribute 'items'"
     ]
    },
    {
     "data": {
      "text/plain": "           country iso_code        date  total_vaccinations  \\\n0      Afghanistan      AFG  2021-02-22                 0.0   \n1      Afghanistan      AFG  2021-02-23                 NaN   \n2      Afghanistan      AFG  2021-02-24                 NaN   \n3      Afghanistan      AFG  2021-02-25                 NaN   \n4      Afghanistan      AFG  2021-02-26                 NaN   \n...            ...      ...         ...                 ...   \n13595     Zimbabwe      ZWE  2021-04-19            316991.0   \n13596     Zimbabwe      ZWE  2021-04-20            325007.0   \n13597     Zimbabwe      ZWE  2021-04-21            332996.0   \n13598     Zimbabwe      ZWE  2021-04-22            351799.0   \n13599     Zimbabwe      ZWE  2021-04-23            365985.0   \n\n       people_vaccinated  people_fully_vaccinated  daily_vaccinations_raw  \\\n0                    0.0                      NaN                     NaN   \n1                    NaN                      NaN                     NaN   \n2                    NaN                      NaN                     NaN   \n3                    NaN                      NaN                     NaN   \n4                    NaN                      NaN                     NaN   \n...                  ...                      ...                     ...   \n13595           280568.0                  36423.0                  2545.0   \n13596           288229.0                  36778.0                  8016.0   \n13597           295631.0                  37365.0                  7989.0   \n13598           308071.0                  43728.0                 18803.0   \n13599           319732.0                  46253.0                 14186.0   \n\n       daily_vaccinations  total_vaccinations_per_hundred  \\\n0                     NaN                            0.00   \n1                  1367.0                             NaN   \n2                  1367.0                             NaN   \n3                  1367.0                             NaN   \n4                  1367.0                             NaN   \n...                   ...                             ...   \n13595             11773.0                            2.13   \n13596             10950.0                            2.19   \n13597             10124.0                            2.24   \n13598              9417.0                            2.37   \n13599              8755.0                            2.46   \n\n       people_vaccinated_per_hundred  people_fully_vaccinated_per_hundred  \\\n0                               0.00                                  NaN   \n1                                NaN                                  NaN   \n2                                NaN                                  NaN   \n3                                NaN                                  NaN   \n4                                NaN                                  NaN   \n...                              ...                                  ...   \n13595                           1.89                                 0.25   \n13596                           1.94                                 0.25   \n13597                           1.99                                 0.25   \n13598                           2.07                                 0.29   \n13599                           2.15                                 0.31   \n\n       daily_vaccinations_per_million            vaccines  \\\n0                                 NaN  Oxford/AstraZeneca   \n1                                35.0  Oxford/AstraZeneca   \n2                                35.0  Oxford/AstraZeneca   \n3                                35.0  Oxford/AstraZeneca   \n4                                35.0  Oxford/AstraZeneca   \n...                               ...                 ...   \n13595                           792.0   Sinopharm/Beijing   \n13596                           737.0   Sinopharm/Beijing   \n13597                           681.0   Sinopharm/Beijing   \n13598                           634.0   Sinopharm/Beijing   \n13599                           589.0   Sinopharm/Beijing   \n\n                     source_name  \\\n0      Government of Afghanistan   \n1      Government of Afghanistan   \n2      Government of Afghanistan   \n3      Government of Afghanistan   \n4      Government of Afghanistan   \n...                          ...   \n13595         Ministry of Health   \n13596         Ministry of Health   \n13597         Ministry of Health   \n13598         Ministry of Health   \n13599         Ministry of Health   \n\n                                          source_website  \n0      https://reliefweb.int/report/afghanistan/afgha...  \n1      https://reliefweb.int/report/afghanistan/afgha...  \n2      https://reliefweb.int/report/afghanistan/afgha...  \n3      https://reliefweb.int/report/afghanistan/afgha...  \n4      https://reliefweb.int/report/afghanistan/afgha...  \n...                                                  ...  \n13595  https://twitter.com/MoHCCZim/status/1385677011...  \n13596  https://twitter.com/MoHCCZim/status/1385677011...  \n13597  https://twitter.com/MoHCCZim/status/1385677011...  \n13598  https://twitter.com/MoHCCZim/status/1385677011...  \n13599  https://twitter.com/MoHCCZim/status/1385677011...  \n\n[13600 rows x 15 columns]"
     },
     "metadata": {},
     "output_type": "display_data"
    }
   ],
   "source": [
    "df.intent = ['country', 'total_vaccinations']\n",
    "df"
   ],
   "metadata": {
    "collapsed": false,
    "pycharm": {
     "name": "#%%\n"
    }
   }
  },
  {
   "cell_type": "code",
   "execution_count": 56,
   "outputs": [
    {
     "data": {
      "text/plain": "[]"
     },
     "execution_count": 56,
     "metadata": {},
     "output_type": "execute_result"
    }
   ],
   "source": [
    "df.exported"
   ],
   "metadata": {
    "collapsed": false,
    "pycharm": {
     "name": "#%%\n"
    }
   }
  },
  {
   "cell_type": "code",
   "execution_count": 57,
   "outputs": [
    {
     "data": {
      "text/plain": "[]"
     },
     "execution_count": 57,
     "metadata": {},
     "output_type": "execute_result"
    }
   ],
   "source": [
    "vis = df.exported\n",
    "vis"
   ],
   "metadata": {
    "collapsed": false,
    "pycharm": {
     "name": "#%%\n"
    }
   }
  }
 ],
 "metadata": {
  "kernelspec": {
   "display_name": "Python 3",
   "language": "python",
   "name": "python3"
  },
  "language_info": {
   "codemirror_mode": {
    "name": "ipython",
    "version": 2
   },
   "file_extension": ".py",
   "mimetype": "text/x-python",
   "name": "python",
   "nbconvert_exporter": "python",
   "pygments_lexer": "ipython2",
   "version": "2.7.6"
  }
 },
 "nbformat": 4,
 "nbformat_minor": 0
}