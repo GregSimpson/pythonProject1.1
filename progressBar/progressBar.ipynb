{
 "cells": [
  {
   "cell_type": "markdown",
   "metadata": {
    "collapsed": true,
    "pycharm": {
     "name": "#%% md\n"
    }
   },
   "source": [
    "# https://github.com/gto76/python-cheatsheet#progress-bar\n"
   ]
  },
  {
   "cell_type": "code",
   "execution_count": 2,
   "outputs": [
    {
     "name": "stdout",
     "output_type": "stream",
     "text": [
      "Requirement already satisfied: tqdm in /home/gsimpson/PycharmProjects/pythonProject1/venv/lib/python3.8/site-packages (4.56.0)\r\n"
     ]
    },
    {
     "name": "stderr",
     "output_type": "stream",
     "text": [
      "Processing: 100%|██████████| 3/3 [00:09<00:00,  3.00s/it]\n"
     ]
    }
   ],
   "source": [
    "import profile\n",
    "!pip3 install tqdm\n",
    "from tqdm import tqdm\n",
    "from time import sleep\n",
    "\n",
    "for el in tqdm([1,2,3], desc=\"Processing\"):\n",
    "    sleep(3)"
   ],
   "metadata": {
    "collapsed": false,
    "pycharm": {
     "name": "#%%\n"
    }
   }
  },
  {
   "cell_type": "code",
   "execution_count": 6,
   "outputs": [
    {
     "name": "stdout",
     "output_type": "stream",
     "text": [
      "Requirement already satisfied: line_profiler in /home/gsimpson/PycharmProjects/pythonProject1/venv/lib/python3.8/site-packages (3.2.6)\r\n",
      "Requirement already satisfied: memory_profiler in /home/gsimpson/PycharmProjects/pythonProject1/venv/lib/python3.8/site-packages (0.58.0)\r\n",
      "Requirement already satisfied: IPython>=0.13 in /home/gsimpson/PycharmProjects/pythonProject1/venv/lib/python3.8/site-packages (from line_profiler) (7.22.0)\r\n",
      "Requirement already satisfied: pickleshare in /home/gsimpson/PycharmProjects/pythonProject1/venv/lib/python3.8/site-packages (from IPython>=0.13->line_profiler) (0.7.5)\r\n",
      "Requirement already satisfied: traitlets>=4.2 in /home/gsimpson/PycharmProjects/pythonProject1/venv/lib/python3.8/site-packages (from IPython>=0.13->line_profiler) (5.0.5)\r\n",
      "Requirement already satisfied: decorator in /home/gsimpson/PycharmProjects/pythonProject1/venv/lib/python3.8/site-packages (from IPython>=0.13->line_profiler) (4.4.2)\r\n",
      "Requirement already satisfied: setuptools>=18.5 in /home/gsimpson/PycharmProjects/pythonProject1/venv/lib/python3.8/site-packages (from IPython>=0.13->line_profiler) (54.2.0)\r\n",
      "Requirement already satisfied: pygments in /home/gsimpson/PycharmProjects/pythonProject1/venv/lib/python3.8/site-packages (from IPython>=0.13->line_profiler) (2.8.1)\r\n",
      "Requirement already satisfied: pexpect>4.3 in /home/gsimpson/PycharmProjects/pythonProject1/venv/lib/python3.8/site-packages (from IPython>=0.13->line_profiler) (4.8.0)\r\n",
      "Requirement already satisfied: backcall in /home/gsimpson/PycharmProjects/pythonProject1/venv/lib/python3.8/site-packages (from IPython>=0.13->line_profiler) (0.2.0)\r\n",
      "Requirement already satisfied: prompt-toolkit!=3.0.0,!=3.0.1,<3.1.0,>=2.0.0 in /home/gsimpson/PycharmProjects/pythonProject1/venv/lib/python3.8/site-packages (from IPython>=0.13->line_profiler) (3.0.18)\r\n",
      "Requirement already satisfied: jedi>=0.16 in /home/gsimpson/PycharmProjects/pythonProject1/venv/lib/python3.8/site-packages (from IPython>=0.13->line_profiler) (0.18.0)\r\n",
      "Requirement already satisfied: parso<0.9.0,>=0.8.0 in /home/gsimpson/PycharmProjects/pythonProject1/venv/lib/python3.8/site-packages (from jedi>=0.16->IPython>=0.13->line_profiler) (0.8.2)\r\n",
      "Requirement already satisfied: ptyprocess>=0.5 in /home/gsimpson/PycharmProjects/pythonProject1/venv/lib/python3.8/site-packages (from pexpect>4.3->IPython>=0.13->line_profiler) (0.7.0)\r\n",
      "Requirement already satisfied: wcwidth in /home/gsimpson/PycharmProjects/pythonProject1/venv/lib/python3.8/site-packages (from prompt-toolkit!=3.0.0,!=3.0.1,<3.1.0,>=2.0.0->IPython>=0.13->line_profiler) (0.2.5)\r\n",
      "Requirement already satisfied: ipython-genutils in /home/gsimpson/PycharmProjects/pythonProject1/venv/lib/python3.8/site-packages (from traitlets>=4.2->IPython>=0.13->line_profiler) (0.2.0)\r\n",
      "Requirement already satisfied: psutil in /home/gsimpson/PycharmProjects/pythonProject1/venv/lib/python3.8/site-packages (from memory_profiler) (5.8.0)\r\n"
     ]
    },
    {
     "ename": "NameError",
     "evalue": "name 'profile' is not defined",
     "output_type": "error",
     "traceback": [
      "\u001B[0;31m---------------------------------------------------------------------------\u001B[0m",
      "\u001B[0;31mNameError\u001B[0m                                 Traceback (most recent call last)",
      "\u001B[0;32m<ipython-input-6-a1a4cd9e6e34>\u001B[0m in \u001B[0;36m<module>\u001B[0;34m\u001B[0m\n\u001B[1;32m      1\u001B[0m \u001B[0mget_ipython\u001B[0m\u001B[0;34m(\u001B[0m\u001B[0;34m)\u001B[0m\u001B[0;34m.\u001B[0m\u001B[0msystem\u001B[0m\u001B[0;34m(\u001B[0m\u001B[0;34m'pip3 install line_profiler memory_profiler'\u001B[0m\u001B[0;34m)\u001B[0m\u001B[0;34m\u001B[0m\u001B[0;34m\u001B[0m\u001B[0m\n\u001B[0;32m----> 2\u001B[0;31m \u001B[0;34m@\u001B[0m\u001B[0mprofile\u001B[0m\u001B[0;34m\u001B[0m\u001B[0;34m\u001B[0m\u001B[0m\n\u001B[0m\u001B[1;32m      3\u001B[0m \u001B[0;32mdef\u001B[0m \u001B[0mmain\u001B[0m\u001B[0;34m(\u001B[0m\u001B[0;34m)\u001B[0m\u001B[0;34m:\u001B[0m\u001B[0;34m\u001B[0m\u001B[0;34m\u001B[0m\u001B[0m\n\u001B[1;32m      4\u001B[0m     \u001B[0ma\u001B[0m \u001B[0;34m=\u001B[0m \u001B[0;34m[\u001B[0m\u001B[0;34m*\u001B[0m\u001B[0mrange\u001B[0m\u001B[0;34m(\u001B[0m\u001B[0;36m10000\u001B[0m\u001B[0;34m)\u001B[0m\u001B[0;34m]\u001B[0m\u001B[0;34m\u001B[0m\u001B[0;34m\u001B[0m\u001B[0m\n\u001B[1;32m      5\u001B[0m     \u001B[0mb\u001B[0m \u001B[0;34m=\u001B[0m \u001B[0;34m{\u001B[0m\u001B[0;34m*\u001B[0m\u001B[0mrange\u001B[0m\u001B[0;34m(\u001B[0m\u001B[0;36m10000\u001B[0m\u001B[0;34m)\u001B[0m\u001B[0;34m}\u001B[0m\u001B[0;34m\u001B[0m\u001B[0;34m\u001B[0m\u001B[0m\n",
      "\u001B[0;31mNameError\u001B[0m: name 'profile' is not defined"
     ]
    }
   ],
   "source": [
    "#!pip3 install line_profiler memory_profiler\n",
    "#@profile\n",
    "#def main():\n",
    "#    a = [*range(10000)]\n",
    "#    b = {*range(10000)}\n",
    "#main()"
   ],
   "metadata": {
    "collapsed": false,
    "pycharm": {
     "name": "#%%\n"
    }
   }
  },
  {
   "cell_type": "code",
   "execution_count": 7,
   "outputs": [],
   "source": [
    "# Animation\n",
    "## Creates a GIF of a bouncing ball:\n",
    "# !pip3 install imageio\n",
    "from PIL import Image, ImageDraw\n",
    "import imageio\n",
    "WIDTH, R = 126, 10\n",
    "frames = []\n",
    "for velocity in range(1, 16):\n",
    "    y = sum(range(velocity))\n",
    "    frame = Image.new('L', (WIDTH, WIDTH))\n",
    "    draw  = ImageDraw.Draw(frame)\n",
    "    draw.ellipse((WIDTH/2-R, y, WIDTH/2+R, y+R*2), fill='white')\n",
    "    frames.append(frame)\n",
    "frames += reversed(frames[1:-1])\n",
    "imageio.mimsave('test.gif', frames, duration=0.03)"
   ],
   "metadata": {
    "collapsed": false,
    "pycharm": {
     "name": "#%%\n"
    }
   }
  }
 ],
 "metadata": {
  "kernelspec": {
   "display_name": "Python 3",
   "language": "python",
   "name": "python3"
  },
  "language_info": {
   "codemirror_mode": {
    "name": "ipython",
    "version": 2
   },
   "file_extension": ".py",
   "mimetype": "text/x-python",
   "name": "python",
   "nbconvert_exporter": "python",
   "pygments_lexer": "ipython2",
   "version": "2.7.6"
  }
 },
 "nbformat": 4,
 "nbformat_minor": 0
}