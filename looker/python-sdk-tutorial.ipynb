{
 "cells": [
  {
   "cell_type": "code",
   "execution_count": 16,
   "metadata": {
    "collapsed": true
   },
   "outputs": [],
   "source": [
    "# https://github.com/looker-open-source/sdk-codegen/blob/main/python/python-sdk-tutorial.ipynb"
   ]
  },
  {
   "cell_type": "code",
   "execution_count": 17,
   "outputs": [],
   "source": [
    "#pip install looker_sdk"
   ],
   "metadata": {
    "collapsed": false,
    "pycharm": {
     "name": "#%%\n"
    }
   }
  },
  {
   "cell_type": "code",
   "execution_count": 18,
   "outputs": [],
   "source": [
    "import looker_sdk #Note that the pip install required a hyphen but the import is an underscore.\n",
    "\n",
    "import os #We import os here in order to manage environment variables for the tutorial. You don't need to do this on a local system or anywhere you can more conveniently set environment variables.\n",
    "\n",
    "import json #This is a handy library for doing JSON work.\n"
   ],
   "metadata": {
    "collapsed": false,
    "pycharm": {
     "name": "#%%\n"
    }
   }
  },
  {
   "cell_type": "code",
   "execution_count": 18,
   "outputs": [],
   "source": [],
   "metadata": {
    "collapsed": false,
    "pycharm": {
     "name": "#%%\n"
    }
   }
  },
  {
   "cell_type": "code",
   "execution_count": 19,
   "outputs": [
    {
     "name": "stdout",
     "output_type": "stream",
     "text": [
      "Looker SDK 3.1 initialized successfully.\n"
     ]
    }
   ],
   "source": [
    "sdk = looker_sdk.init31()  # or init31() for the older v3.1 API\n",
    "print('Looker SDK 3.1 initialized successfully.')\n",
    "\n",
    "#Uncomment out the lines below if you want to instead initialize the 4.0 SDK. It's that easy— Just replace init31 with init40.\n",
    "#sdk = looker_sdk.init40()\n",
    "#print('Looker SDK 4.0 initialized successfully.')"
   ],
   "metadata": {
    "collapsed": false,
    "pycharm": {
     "name": "#%%\n"
    }
   }
  },
  {
   "cell_type": "code",
   "execution_count": 21,
   "outputs": [
    {
     "name": "stdout",
     "output_type": "stream",
     "text": [
      " ---- BEGIN ---- \n",
      "Greg\n",
      "Greg\n",
      " ----  END  ---- \n"
     ]
    }
   ],
   "source": [
    "my_user = sdk.me()\n",
    "\n",
    "#Output is an instance of the User model, but can also be read like a python dict. This applies to all Looker API calls that return Models.\n",
    "#Example: The following commands return identical output. Feel free to use whichever style is more comfortable for you.\n",
    "\n",
    "print(' ---- BEGIN ---- ')\n",
    "print(my_user.first_name) #Model dot notation\n",
    "print(my_user[\"first_name\"]) #Dictionary\n",
    "print(' ----  END  ---- ')"
   ],
   "metadata": {
    "collapsed": false,
    "pycharm": {
     "name": "#%%\n"
    }
   }
  }
 ],
 "metadata": {
  "kernelspec": {
   "display_name": "Python 3",
   "language": "python",
   "name": "python3"
  },
  "language_info": {
   "codemirror_mode": {
    "name": "ipython",
    "version": 2
   },
   "file_extension": ".py",
   "mimetype": "text/x-python",
   "name": "python",
   "nbconvert_exporter": "python",
   "pygments_lexer": "ipython2",
   "version": "2.7.6"
  }
 },
 "nbformat": 4,
 "nbformat_minor": 0
}