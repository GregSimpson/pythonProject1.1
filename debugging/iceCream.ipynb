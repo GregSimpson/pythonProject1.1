{
 "cells": [
  {
   "cell_type": "markdown",
   "metadata": {
    "collapsed": true,
    "pycharm": {
     "name": "#%% md\n"
    }
   },
   "source": [
    "### https://towardsdatascience.com/stop-using-print-to-debug-in-python-use-icecream-instead-79e17b963fcc\n",
    "\n",
    "### https://github.com/khuyentran1401/Data-science\n",
    "\n",
    "# Motivation\n",
    "If you are using print to debug your code, you might find it confusing to look at many lines of output on your terminal and then try to figure out which code each output belongs to.\n",
    "For example, running the script below"
   ]
  },
  {
   "cell_type": "code",
   "execution_count": 16,
   "outputs": [
    {
     "name": "stdout",
     "output_type": "stream",
     "text": [
      "30\n",
      "40\n"
     ]
    }
   ],
   "source": [
    "try:\n",
    "    from icecream import ic\n",
    "except ImportError:  # Graceful fallback if IceCream isn't installed.\n",
    "    ic = lambda *a: None if not a else (a[0] if len(a) == 1 else a)  # noqa\n",
    "\n",
    "num1 = 30\n",
    "num2 = 40\n",
    "\n",
    "print(num1)\n",
    "print(num2)"
   ],
   "metadata": {
    "collapsed": false,
    "pycharm": {
     "name": "#%%\n"
    }
   }
  },
  {
   "cell_type": "markdown",
   "source": [
    "Which one of these outputs is num1 ? Which one of these outputs is num2 ? Two outputs might not be so bad to figure out, but what if there are more than 5 different outputs? To try to find the source code that is responsible for the output can be time-consuming.\n",
    "\n",
    "You might try to add text to the print statement to make it easier to figure out:"
   ],
   "metadata": {
    "collapsed": false
   }
  },
  {
   "cell_type": "code",
   "execution_count": 26,
   "outputs": [
    {
     "name": "stdout",
     "output_type": "stream",
     "text": [
      "num1 30\n",
      "num2 40\n"
     ]
    }
   ],
   "source": [
    "num1 = 30\n",
    "num2 = 40\n",
    "\n",
    "print('num1', num1)\n",
    "print('num2', num2)"
   ],
   "metadata": {
    "collapsed": false,
    "pycharm": {
     "name": "#%%\n"
    }
   }
  },
  {
   "cell_type": "markdown",
   "source": [
    "The output is easier to read, but again, it is time-consuming to write out the text.\n",
    "Is there a way to print the code that is responsible for the output without additional text like below?"
   ],
   "metadata": {
    "collapsed": false
   }
  },
  {
   "cell_type": "code",
   "execution_count": 17,
   "outputs": [],
   "source": [],
   "metadata": {
    "collapsed": false,
    "pycharm": {
     "name": "#%% mb\n"
    }
   }
  },
  {
   "cell_type": "code",
   "execution_count": 17,
   "outputs": [],
   "source": [],
   "metadata": {
    "collapsed": false,
    "pycharm": {
     "name": "#%%\n"
    }
   }
  },
  {
   "cell_type": "markdown",
   "source": [
    "## What is icecream?\n",
    "### Icecream is a Python library that makes print debugging more readable with minimal code.\n",
    "\n",
    "### To install icecream, use"
   ],
   "metadata": {
    "collapsed": false
   }
  },
  {
   "cell_type": "code",
   "execution_count": 29,
   "outputs": [
    {
     "name": "stdout",
     "output_type": "stream",
     "text": [
      "Requirement already satisfied: icecream in /home/gsimpson/gjs/git_stuff/pythonProject1.1/venv/lib/python3.8/site-packages (2.1.1)\r\n",
      "Requirement already satisfied: colorama>=0.3.9 in /home/gsimpson/gjs/git_stuff/pythonProject1.1/venv/lib/python3.8/site-packages (from icecream) (0.4.4)\r\n",
      "Requirement already satisfied: asttokens>=2.0.1 in /home/gsimpson/gjs/git_stuff/pythonProject1.1/venv/lib/python3.8/site-packages (from icecream) (2.0.5)\r\n",
      "Requirement already satisfied: executing>=0.3.1 in /home/gsimpson/gjs/git_stuff/pythonProject1.1/venv/lib/python3.8/site-packages (from icecream) (0.6.0)\r\n",
      "Requirement already satisfied: pygments>=2.2.0 in /home/gsimpson/gjs/git_stuff/pythonProject1.1/venv/lib/python3.8/site-packages (from icecream) (2.9.0)\r\n",
      "Requirement already satisfied: six in /home/gsimpson/gjs/git_stuff/pythonProject1.1/venv/lib/python3.8/site-packages (from asttokens>=2.0.1->icecream) (1.16.0)\r\n"
     ]
    }
   ],
   "source": [
    "!pip install icecream\n"
   ],
   "metadata": {
    "collapsed": false,
    "pycharm": {
     "name": "#%%\n"
    }
   }
  },
  {
   "cell_type": "markdown",
   "source": [
    "### Let’s try it out by print the output of a Python function."
   ],
   "metadata": {
    "collapsed": false
   }
  },
  {
   "cell_type": "code",
   "execution_count": 32,
   "outputs": [
    {
     "name": "stderr",
     "output_type": "stream",
     "text": [
      "GJS 2021-07-01 15:37:45.611466|> Error: Failed to access the underlying source code for analysis. Was ic() invoked in a REPL (e.g. from the command line), a frozen application (e.g. packaged with PyInstaller), or did the underlying source code change during execution?\n"
     ]
    },
    {
     "data": {
      "text/plain": "9"
     },
     "execution_count": 32,
     "metadata": {},
     "output_type": "execute_result"
    }
   ],
   "source": [
    "from icecream import ic\n",
    "\n",
    "def plus_five(num):\n",
    "    return num + 5\n",
    "\n",
    "#ic(plus_five(4))\n",
    "#ic(plus_five(5))"
   ],
   "metadata": {
    "collapsed": false,
    "pycharm": {
     "name": "#%%\n"
    }
   }
  },
  {
   "cell_type": "markdown",
   "source": [
    "By using ic , we do not only see the output but also see the function and its arguments!\n",
    "\n",
    "How convenient!\n",
    "The color in your terminal will also be as colorful as the outputs shown above."
   ],
   "metadata": {
    "collapsed": false
   }
  },
  {
   "cell_type": "markdown",
   "source": [
    "\n",
    "# Inspect Execution\n",
    "To locate where the code was executed, you might do something like what is shown\n",
    "below to find which statement was executed"
   ],
   "metadata": {
    "collapsed": false
   }
  },
  {
   "cell_type": "code",
   "execution_count": 20,
   "outputs": [
    {
     "name": "stdout",
     "output_type": "stream",
     "text": [
      "I'm user\n"
     ]
    }
   ],
   "source": [
    "def hello(user:bool):\n",
    "    if user:\n",
    "        print(\"I'm user\")\n",
    "    else:\n",
    "        print(\"I'm not user\")\n",
    "\n",
    "hello(user=True)"
   ],
   "metadata": {
    "collapsed": false,
    "pycharm": {
     "name": "#%%\n"
    }
   }
  },
  {
   "cell_type": "markdown",
   "source": [
    "Icecream makes it easier for you to do something like the above by simply running ic()\n",
    "without additional text"
   ],
   "metadata": {
    "collapsed": false
   }
  },
  {
   "cell_type": "code",
   "execution_count": 21,
   "outputs": [
    {
     "name": "stderr",
     "output_type": "stream",
     "text": [
      "GJS 2021-07-01 15:35:54.454203|> 3173127678.py:6 in hello() at 15:35:54.595\n"
     ]
    }
   ],
   "source": [
    "from icecream import ic\n",
    "def hello(user:bool):\n",
    "    if user:\n",
    "        ic()\n",
    "    else:\n",
    "        ic()\n",
    "\n",
    "hello(user=False)"
   ],
   "metadata": {
    "collapsed": false,
    "pycharm": {
     "name": "#%%\n"
    }
   }
  },
  {
   "cell_type": "markdown",
   "source": [
    "# Custom Prefix\n",
    "If you would like to insert a custom prefix such as the time the code was executed to\n",
    "your print statement, icecream also allows you to do so."
   ],
   "metadata": {
    "collapsed": false
   }
  },
  {
   "cell_type": "code",
   "execution_count": 22,
   "outputs": [
    {
     "name": "stderr",
     "output_type": "stream",
     "text": [
      "GJS 2021-07-01 15:35:55.794798|> Error: Failed to access the underlying source code for analysis. Was ic() invoked in a REPL (e.g. from the command line), a frozen application (e.g. packaged with PyInstaller), or did the underlying source code change during execution?\n",
      "GJS 2021-07-01 15:35:57.203679|> Error: Failed to access the underlying source code for analysis. Was ic() invoked in a REPL (e.g. from the command line), a frozen application (e.g. packaged with PyInstaller), or did the underlying source code change during execution?\n",
      "GJS 2021-07-01 15:35:58.823897|> Error: Failed to access the underlying source code for analysis. Was ic() invoked in a REPL (e.g. from the command line), a frozen application (e.g. packaged with PyInstaller), or did the underlying source code change during execution?\n"
     ]
    }
   ],
   "source": [
    "from datetime import datetime\n",
    "from icecream import ic\n",
    "import time\n",
    "\n",
    "def time_format():\n",
    "    return f'GJS {datetime.now()}|> '\n",
    "\n",
    "ic.configureOutput(prefix=time_format)\n",
    "\n",
    "for _ in range(3):\n",
    "    time.sleep(1)\n",
    "    ic('Hello')"
   ],
   "metadata": {
    "collapsed": false,
    "pycharm": {
     "name": "#%%\n"
    }
   }
  },
  {
   "cell_type": "markdown",
   "source": [
    "Now the time that the code is executed is automatically shown in the output! How cool is that?"
   ],
   "metadata": {
    "collapsed": false
   }
  },
  {
   "cell_type": "markdown",
   "source": [
    "# Can I get more context?\n",
    "Besides knowing the code that is responsible for the output, you might also want to know\n",
    "which line and file the code was executed from. To know the context of the code,\n",
    "add includeContext=True to ic.configureOutput()"
   ],
   "metadata": {
    "collapsed": false
   }
  },
  {
   "cell_type": "code",
   "execution_count": 23,
   "outputs": [
    {
     "name": "stderr",
     "output_type": "stream",
     "text": [
      "GJS 2021-07-01 15:35:59.162892|> Error: Failed to access the underlying source code for analysis. Was ic() invoked in a REPL (e.g. from the command line), a frozen application (e.g. packaged with PyInstaller), or did the underlying source code change during execution?\n",
      "GJS 2021-07-01 15:35:59.613387|> Error: Failed to access the underlying source code for analysis. Was ic() invoked in a REPL (e.g. from the command line), a frozen application (e.g. packaged with PyInstaller), or did the underlying source code change during execution?\n"
     ]
    },
    {
     "data": {
      "text/plain": "10"
     },
     "execution_count": 23,
     "metadata": {},
     "output_type": "execute_result"
    }
   ],
   "source": [
    "from icecream import ic\n",
    "\n",
    "def plus_five(num):\n",
    "    return num + 5\n",
    "\n",
    "ic.configureOutput(includeContext=True)\n",
    "ic(plus_five(4))\n",
    "ic(plus_five(5))"
   ],
   "metadata": {
    "collapsed": false,
    "pycharm": {
     "name": "#%%\n"
    }
   }
  },
  {
   "cell_type": "markdown",
   "source": [
    "Now you know that the first output was executed by the function plus_five from the file\n",
    "icecream_example.py at line 7."
   ],
   "metadata": {
    "collapsed": false
   }
  },
  {
   "cell_type": "markdown",
   "source": [
    "# Delete All Icecream after Finish Debugging\n",
    "You can use icecream solely for debugging while using print for other purposes such as pretty printing"
   ],
   "metadata": {
    "collapsed": false
   }
  },
  {
   "cell_type": "code",
   "execution_count": 24,
   "outputs": [
    {
     "name": "stderr",
     "output_type": "stream",
     "text": [
      "GJS 2021-07-01 15:36:00.368960|> Error: Failed to access the underlying source code for analysis. Was ic() invoked in a REPL (e.g. from the command line), a frozen application (e.g. packaged with PyInstaller), or did the underlying source code change during execution?\n",
      "GJS 2021-07-01 15:36:00.913165|> Error: Failed to access the underlying source code for analysis. Was ic() invoked in a REPL (e.g. from the command line), a frozen application (e.g. packaged with PyInstaller), or did the underlying source code change during execution?\n"
     ]
    },
    {
     "name": "stdout",
     "output_type": "stream",
     "text": [
      "****** Training model 0 ******\n",
      "****** Training model 1 ******\n",
      "****** Training model 2 ******\n",
      "****** Training model 3 ******\n",
      "****** Training model 4 ******\n",
      "****** Training model 5 ******\n",
      "****** Training model 6 ******\n",
      "****** Training model 7 ******\n",
      "****** Training model 8 ******\n",
      "****** Training model 9 ******\n"
     ]
    }
   ],
   "source": [
    "from icecream import ic\n",
    "\n",
    "def plus_five(num):\n",
    "    return num + 5\n",
    "\n",
    "ic(plus_five(4))\n",
    "ic(plus_five(5))\n",
    "\n",
    "for i in range(10):\n",
    "    print(f'****** Training model {i} ******')"
   ],
   "metadata": {
    "collapsed": false,
    "pycharm": {
     "name": "#%%\n"
    }
   }
  },
  {
   "cell_type": "markdown",
   "source": [
    "Since you can distinguish between debugging print and pretty print,\n",
    "it is much easier for you to search and delete all the ic statements after debugging."
   ],
   "metadata": {
    "collapsed": false
   }
  },
  {
   "cell_type": "code",
   "execution_count": 25,
   "outputs": [
    {
     "name": "stdout",
     "output_type": "stream",
     "text": [
      "****** Training model 0 ******\n",
      "****** Training model 1 ******\n",
      "****** Training model 2 ******\n",
      "****** Training model 3 ******\n",
      "****** Training model 4 ******\n",
      "****** Training model 5 ******\n",
      "****** Training model 6 ******\n",
      "****** Training model 7 ******\n",
      "****** Training model 8 ******\n",
      "****** Training model 9 ******\n"
     ]
    }
   ],
   "source": [
    "from icecream import ic\n",
    "\n",
    "def plus_five(num):\n",
    "    return num + 5\n",
    "\n",
    "for i in range(10):\n",
    "    print(f'****** Training model {i} ******')"
   ],
   "metadata": {
    "collapsed": false,
    "pycharm": {
     "name": "#%%\n"
    }
   }
  },
  {
   "cell_type": "code",
   "execution_count": 33,
   "outputs": [
    {
     "name": "stderr",
     "output_type": "stream",
     "text": [
      "GJS 2021-07-01 15:39:45.820594|> Error: Failed to access the underlying source code for analysis. Was ic() invoked in a REPL (e.g. from the command line), a frozen application (e.g. packaged with PyInstaller), or did the underlying source code change during execution?\n"
     ]
    },
    {
     "data": {
      "text/plain": "456"
     },
     "execution_count": 33,
     "metadata": {},
     "output_type": "execute_result"
    }
   ],
   "source": [
    "from icecream import ic\n",
    "\n",
    "def foo(i):\n",
    "    return i + 333\n",
    "\n",
    "ic(foo(123))"
   ],
   "metadata": {
    "collapsed": false,
    "pycharm": {
     "name": "#%%\n"
    }
   }
  }
 ],
 "metadata": {
  "kernelspec": {
   "display_name": "Python 3",
   "language": "python",
   "name": "python3"
  },
  "language_info": {
   "codemirror_mode": {
    "name": "ipython",
    "version": 2
   },
   "file_extension": ".py",
   "mimetype": "text/x-python",
   "name": "python",
   "nbconvert_exporter": "python",
   "pygments_lexer": "ipython2",
   "version": "2.7.6"
  }
 },
 "nbformat": 4,
 "nbformat_minor": 0
}