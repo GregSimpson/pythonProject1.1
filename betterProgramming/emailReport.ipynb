{
 "cells": [
  {
   "cell_type": "code",
   "execution_count": null,
   "metadata": {
    "collapsed": true
   },
   "outputs": [],
   "source": [
    "from datetime import datetime, date\n",
    "import pandas as pd\n",
    "import numpy as np\n",
    "import os\n",
    "import matplotlib.pyplot as plt\n",
    "import pathlib"
   ]
  },
  {
   "cell_type": "code",
   "execution_count": null,
   "outputs": [],
   "source": [
    "# Define Dataset\n",
    "x = [1,2,3,4,5,6,7,8,9,10]\n",
    "y = [1,2,3,4,5,8,8,9,3,1]"
   ],
   "metadata": {
    "collapsed": false,
    "pycharm": {
     "name": "#%%\n"
    }
   }
  },
  {
   "cell_type": "code",
   "execution_count": null,
   "outputs": [],
   "source": [
    "def create_visualization(x,y):\n",
    "    '''\n",
    "        Create Visualization\n",
    "        return:\n",
    "            - saves the created plot in ./results/\n",
    "            - dir: path to working directory\n",
    "            - path: path to saved plot\n",
    "    '''\n",
    "\n",
    "    # Font size\n",
    "    plt.rc('font', size=22)          # controls default text sizes\n",
    "    plt.rc('axes', titlesize=22)     # fontsize of the axes title\n",
    "    plt.rc('axes', labelsize=20)    # fontsize of the x and y labels\n",
    "    plt.rc('xtick', labelsize=18)    # fontsize of the tick labels\n",
    "    plt.rc('ytick', labelsize=18)    # fontsize of the tick labels\n",
    "    plt.rc('legend', fontsize=18)    # legend fontsize\n",
    "    plt.rc('figure', titlesize=22)  # fontsize of the figure title\n",
    "\n",
    "    #create new plot with matplotlib\n",
    "    fig, ax = plt.subplots(figsize=(14, 7))\n",
    "\n",
    "    # add a bar plot to the figure\n",
    "    ax.bar(x,y, color='grey')\n",
    "    ax.set(xlabel='Day', ylabel='Hours [h]')\n",
    "\n",
    "    # define filename with current date e.g. \"2021-04-08.png\"\n",
    "    filename = str(date.today()) + \".png\"\n",
    "\n",
    "    # working directory\n",
    "    ### dir = pathlib.Path(__file__).parent.absolute()\n",
    "\n",
    "    # on a jupyter notebook\n",
    "    #dir = os.path.abspath(\"__file__\"+\"/../../other-dir\")\n",
    "    #dir = os.path.abspath(\"__file__\")\n",
    "    #dir = os.path.abspath(\"/\")\n",
    "    #print(os.path.dirname(os.path.abspath(\"__file__\")))\n",
    "    #dir = (os.path.dirname(os.path.abspath(\"__file__\")))\n",
    "\n",
    "    # folder where the plots should be saved\n",
    "    #folder = r\"/results/\"\n",
    "    folder = \"results\"\n",
    "\n",
    "    #----\n",
    "    try:\n",
    "        #gjs_path = os.path.dirname(os.path.realpath(__file__))\n",
    "        #gjs_path = os.path.basename(__file__)\n",
    "        dir = os.getcwd()\n",
    "        #print(\"Current directory is\\t%s \" % gjs_path)\n",
    "\n",
    "        #path = os.path.join(dir, folder)\n",
    "        #path = os.path.join((os.path.dirname(os.path.abspath(\"__file__\"))), folder)\n",
    "        path = os.path.join(os.getcwd(), folder)\n",
    "        #print(\"Folder directory is\\t%s \" % folder)\n",
    "        #print(\"Parent directory is\\t%s \" % dir)\n",
    "        print(\"Creating directory \\t%s \" % path)\n",
    "        os.makedirs(path, exist_ok = True)\n",
    "        print(\"Directory '%s' created successfully\" % path)\n",
    "    except OSError as error:\n",
    "        print(\"Directory '%s' can not be created\" % path)\n",
    "\n",
    "    #-------\n",
    "\n",
    "    #path_plot = str(dir) + folder + filename\n",
    "    path_plot = os.path.join(dir, folder)\n",
    "    path_plot = os.path.join(path_plot, filename)\n",
    "    print(\"Saving file\\t\\t'%s' \" % path_plot)\n",
    "\n",
    "    # save plot\n",
    "    fig.savefig(path_plot, dpi=fig.dpi)\n",
    "\n",
    "    return path_plot, dir"
   ],
   "metadata": {
    "collapsed": false,
    "pycharm": {
     "name": "#%%\n"
    }
   }
  },
  {
   "cell_type": "code",
   "execution_count": null,
   "outputs": [],
   "source": [
    "path_plot, dir = create_visualization(x, y)"
   ],
   "metadata": {
    "collapsed": false,
    "pycharm": {
     "name": "#%%\n"
    }
   }
  },
  {
   "cell_type": "markdown",
   "source": [
    "2. Define your Message and send the Mail\n",
    "Now I would like to include the visualization into the mail body and send it.\n",
    "To send the email, I am using my Gmail account. For this to be possible,\n",
    "you must first make sure that the point “access for less secure apps” in the\n",
    "security settings of your Gmail account is enabled. If you can’t find it right away,\n",
    "there are a number of tutorials on the internet that will explain where to find the setting.¹\n",
    "Then you can use the code below to test if you can send a simple mail with Python.\n",
    "Just set the variables from_mail, from_password and to_mail and try it out.\n",
    "This should send a blank email from “from_mail” with the subject\n",
    "“Simple Data Report: Time analysis” to the recipient “to_mail”."
   ],
   "metadata": {
    "collapsed": false
   }
  },
  {
   "cell_type": "code",
   "execution_count": 133,
   "outputs": [
    {
     "ename": "SMTPAuthenticationError",
     "evalue": "(535, b'5.7.8 Username and Password not accepted. Learn more at\\n5.7.8  https://support.google.com/mail/?p=BadCredentials t9sm811640qkg.121 - gsmtp')",
     "output_type": "error",
     "traceback": [
      "\u001B[0;31m---------------------------------------------------------------------------\u001B[0m",
      "\u001B[0;31mSMTPAuthenticationError\u001B[0m                   Traceback (most recent call last)",
      "\u001B[0;32m<ipython-input-133-2959c782e358>\u001B[0m in \u001B[0;36m<module>\u001B[0;34m\u001B[0m\n\u001B[1;32m     23\u001B[0m \u001B[0mserver\u001B[0m \u001B[0;34m=\u001B[0m \u001B[0msmtplib\u001B[0m\u001B[0;34m.\u001B[0m\u001B[0mSMTP_SSL\u001B[0m\u001B[0;34m(\u001B[0m\u001B[0msmtp_server\u001B[0m\u001B[0;34m,\u001B[0m \u001B[0msmtp_port\u001B[0m\u001B[0;34m)\u001B[0m\u001B[0;34m\u001B[0m\u001B[0;34m\u001B[0m\u001B[0m\n\u001B[1;32m     24\u001B[0m \u001B[0mserver\u001B[0m\u001B[0;34m.\u001B[0m\u001B[0mehlo\u001B[0m\u001B[0;34m(\u001B[0m\u001B[0;34m)\u001B[0m\u001B[0;34m\u001B[0m\u001B[0;34m\u001B[0m\u001B[0m\n\u001B[0;32m---> 25\u001B[0;31m \u001B[0mserver\u001B[0m\u001B[0;34m.\u001B[0m\u001B[0mlogin\u001B[0m\u001B[0;34m(\u001B[0m\u001B[0mfrom_mail\u001B[0m\u001B[0;34m,\u001B[0m \u001B[0mfrom_password\u001B[0m\u001B[0;34m)\u001B[0m\u001B[0;34m\u001B[0m\u001B[0;34m\u001B[0m\u001B[0m\n\u001B[0m\u001B[1;32m     26\u001B[0m \u001B[0mserver\u001B[0m\u001B[0;34m.\u001B[0m\u001B[0msendmail\u001B[0m\u001B[0;34m(\u001B[0m\u001B[0mfrom_mail\u001B[0m\u001B[0;34m,\u001B[0m \u001B[0mto_mail\u001B[0m\u001B[0;34m,\u001B[0m \u001B[0mmsg\u001B[0m\u001B[0;34m.\u001B[0m\u001B[0mas_string\u001B[0m\u001B[0;34m(\u001B[0m\u001B[0;34m)\u001B[0m\u001B[0;34m)\u001B[0m\u001B[0;34m\u001B[0m\u001B[0;34m\u001B[0m\u001B[0m\n\u001B[1;32m     27\u001B[0m \u001B[0mserver\u001B[0m\u001B[0;34m.\u001B[0m\u001B[0mquit\u001B[0m\u001B[0;34m(\u001B[0m\u001B[0;34m)\u001B[0m\u001B[0;34m\u001B[0m\u001B[0;34m\u001B[0m\u001B[0m\n",
      "\u001B[0;32m/usr/lib/python3.8/smtplib.py\u001B[0m in \u001B[0;36mlogin\u001B[0;34m(self, user, password, initial_response_ok)\u001B[0m\n\u001B[1;32m    732\u001B[0m \u001B[0;34m\u001B[0m\u001B[0m\n\u001B[1;32m    733\u001B[0m         \u001B[0;31m# We could not login successfully.  Return result of last attempt.\u001B[0m\u001B[0;34m\u001B[0m\u001B[0;34m\u001B[0m\u001B[0;34m\u001B[0m\u001B[0m\n\u001B[0;32m--> 734\u001B[0;31m         \u001B[0;32mraise\u001B[0m \u001B[0mlast_exception\u001B[0m\u001B[0;34m\u001B[0m\u001B[0;34m\u001B[0m\u001B[0m\n\u001B[0m\u001B[1;32m    735\u001B[0m \u001B[0;34m\u001B[0m\u001B[0m\n\u001B[1;32m    736\u001B[0m     \u001B[0;32mdef\u001B[0m \u001B[0mstarttls\u001B[0m\u001B[0;34m(\u001B[0m\u001B[0mself\u001B[0m\u001B[0;34m,\u001B[0m \u001B[0mkeyfile\u001B[0m\u001B[0;34m=\u001B[0m\u001B[0;32mNone\u001B[0m\u001B[0;34m,\u001B[0m \u001B[0mcertfile\u001B[0m\u001B[0;34m=\u001B[0m\u001B[0;32mNone\u001B[0m\u001B[0;34m,\u001B[0m \u001B[0mcontext\u001B[0m\u001B[0;34m=\u001B[0m\u001B[0;32mNone\u001B[0m\u001B[0;34m)\u001B[0m\u001B[0;34m:\u001B[0m\u001B[0;34m\u001B[0m\u001B[0;34m\u001B[0m\u001B[0m\n",
      "\u001B[0;32m/usr/lib/python3.8/smtplib.py\u001B[0m in \u001B[0;36mlogin\u001B[0;34m(self, user, password, initial_response_ok)\u001B[0m\n\u001B[1;32m    721\u001B[0m             \u001B[0mmethod_name\u001B[0m \u001B[0;34m=\u001B[0m \u001B[0;34m'auth_'\u001B[0m \u001B[0;34m+\u001B[0m \u001B[0mauthmethod\u001B[0m\u001B[0;34m.\u001B[0m\u001B[0mlower\u001B[0m\u001B[0;34m(\u001B[0m\u001B[0;34m)\u001B[0m\u001B[0;34m.\u001B[0m\u001B[0mreplace\u001B[0m\u001B[0;34m(\u001B[0m\u001B[0;34m'-'\u001B[0m\u001B[0;34m,\u001B[0m \u001B[0;34m'_'\u001B[0m\u001B[0;34m)\u001B[0m\u001B[0;34m\u001B[0m\u001B[0;34m\u001B[0m\u001B[0m\n\u001B[1;32m    722\u001B[0m             \u001B[0;32mtry\u001B[0m\u001B[0;34m:\u001B[0m\u001B[0;34m\u001B[0m\u001B[0;34m\u001B[0m\u001B[0m\n\u001B[0;32m--> 723\u001B[0;31m                 (code, resp) = self.auth(\n\u001B[0m\u001B[1;32m    724\u001B[0m                     \u001B[0mauthmethod\u001B[0m\u001B[0;34m,\u001B[0m \u001B[0mgetattr\u001B[0m\u001B[0;34m(\u001B[0m\u001B[0mself\u001B[0m\u001B[0;34m,\u001B[0m \u001B[0mmethod_name\u001B[0m\u001B[0;34m)\u001B[0m\u001B[0;34m,\u001B[0m\u001B[0;34m\u001B[0m\u001B[0;34m\u001B[0m\u001B[0m\n\u001B[1;32m    725\u001B[0m                     initial_response_ok=initial_response_ok)\n",
      "\u001B[0;32m/usr/lib/python3.8/smtplib.py\u001B[0m in \u001B[0;36mauth\u001B[0;34m(self, mechanism, authobject, initial_response_ok)\u001B[0m\n\u001B[1;32m    644\u001B[0m         \u001B[0;32mif\u001B[0m \u001B[0mcode\u001B[0m \u001B[0;32min\u001B[0m \u001B[0;34m(\u001B[0m\u001B[0;36m235\u001B[0m\u001B[0;34m,\u001B[0m \u001B[0;36m503\u001B[0m\u001B[0;34m)\u001B[0m\u001B[0;34m:\u001B[0m\u001B[0;34m\u001B[0m\u001B[0;34m\u001B[0m\u001B[0m\n\u001B[1;32m    645\u001B[0m             \u001B[0;32mreturn\u001B[0m \u001B[0;34m(\u001B[0m\u001B[0mcode\u001B[0m\u001B[0;34m,\u001B[0m \u001B[0mresp\u001B[0m\u001B[0;34m)\u001B[0m\u001B[0;34m\u001B[0m\u001B[0;34m\u001B[0m\u001B[0m\n\u001B[0;32m--> 646\u001B[0;31m         \u001B[0;32mraise\u001B[0m \u001B[0mSMTPAuthenticationError\u001B[0m\u001B[0;34m(\u001B[0m\u001B[0mcode\u001B[0m\u001B[0;34m,\u001B[0m \u001B[0mresp\u001B[0m\u001B[0;34m)\u001B[0m\u001B[0;34m\u001B[0m\u001B[0;34m\u001B[0m\u001B[0m\n\u001B[0m\u001B[1;32m    647\u001B[0m \u001B[0;34m\u001B[0m\u001B[0m\n\u001B[1;32m    648\u001B[0m     \u001B[0;32mdef\u001B[0m \u001B[0mauth_cram_md5\u001B[0m\u001B[0;34m(\u001B[0m\u001B[0mself\u001B[0m\u001B[0;34m,\u001B[0m \u001B[0mchallenge\u001B[0m\u001B[0;34m=\u001B[0m\u001B[0;32mNone\u001B[0m\u001B[0;34m)\u001B[0m\u001B[0;34m:\u001B[0m\u001B[0;34m\u001B[0m\u001B[0;34m\u001B[0m\u001B[0m\n",
      "\u001B[0;31mSMTPAuthenticationError\u001B[0m: (535, b'5.7.8 Username and Password not accepted. Learn more at\\n5.7.8  https://support.google.com/mail/?p=BadCredentials t9sm811640qkg.121 - gsmtp')"
     ]
    }
   ],
   "source": [
    "# https://towardsdatascience.com/how-to-distribute-your-data-reports-via-mail-with-a-few-lines-of-code-8df395c72e55\n",
    "\n",
    "import smtplib\n",
    "from email.mime.multipart import MIMEMultipart\n",
    "\n",
    "# Settings\n",
    "from_mail = \"gregsimpson66@gmail.com\"\n",
    "from_password = \"Leopold8\"\n",
    "\n",
    "to_mail = \"gsimpson@pobox.com\"\n",
    "\n",
    "smtp_server = \"smtp.gmail.com\"\n",
    "smtp_port = 465\n",
    "#smtp_server = \"smtp.comcast.net\"\n",
    "#smtp_port = 578 #465\n",
    "\n",
    "# Create the email message\n",
    "msg = MIMEMultipart()\n",
    "msg['Subject'] = 'Simple Data Report: Time analysis'\n",
    "msg['From'] = from_mail\n",
    "msg['To'] = to_mail\n",
    "msg.preamble = 'Simple Data Report: Time analysis'\n",
    "\n",
    "# Send mail\n",
    "server = smtplib.SMTP_SSL(smtp_server, smtp_port)\n",
    "server.ehlo()\n",
    "server.login(from_mail, from_password)\n",
    "server.sendmail(from_mail, to_mail, msg.as_string())\n",
    "server.quit()"
   ],
   "metadata": {
    "collapsed": false,
    "pycharm": {
     "name": "#%%\n"
    }
   }
  }
 ],
 "metadata": {
  "kernelspec": {
   "display_name": "Python 3",
   "language": "python",
   "name": "python3"
  },
  "language_info": {
   "codemirror_mode": {
    "name": "ipython",
    "version": 2
   },
   "file_extension": ".py",
   "mimetype": "text/x-python",
   "name": "python",
   "nbconvert_exporter": "python",
   "pygments_lexer": "ipython2",
   "version": "2.7.6"
  }
 },
 "nbformat": 4,
 "nbformat_minor": 0
}